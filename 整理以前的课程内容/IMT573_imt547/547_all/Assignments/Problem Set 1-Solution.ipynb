{
 "cells": [
  {
   "cell_type": "code",
   "execution_count": 1,
   "metadata": {},
   "outputs": [],
   "source": [
    "import numpy as np\n",
    "import pandas as pd\n",
    "import json\n",
    "import tweepy\n",
    "import praw\n",
    "from collections import defaultdict\n",
    "from datetime import datetime"
   ]
  },
  {
   "cell_type": "code",
   "execution_count": 2,
   "metadata": {},
   "outputs": [],
   "source": [
    "def loadKeys(key_file):\n",
    "    with open(key_file) as f:\n",
    "        key_dict = json.load(f)\n",
    "    return key_dict['api_key'], key_dict['api_secret'], key_dict['token'], key_dict['token_secret']"
   ]
  },
  {
   "cell_type": "code",
   "execution_count": 3,
   "metadata": {},
   "outputs": [],
   "source": [
    "KEY_FILE = 'twitterkeys.json'\n",
    "api_key, api_secret, token, token_secret = loadKeys(KEY_FILE)\n",
    "auth = tweepy.OAuthHandler(api_key, api_secret)\n",
    "auth.set_access_token(token, token_secret)\n",
    "api = tweepy.API(auth)"
   ]
  },
  {
   "cell_type": "markdown",
   "metadata": {},
   "source": [
    "### 1a) Keywords used - \n",
    "- Covid-19\n",
    "- Coronavirus\n",
    "- Pandemic\n",
    "- WHO\n",
    "- CDC\n",
    "- Mask\n",
    "- Lockdown"
   ]
  },
  {
   "cell_type": "markdown",
   "metadata": {},
   "source": [
    "### 1b)"
   ]
  },
  {
   "cell_type": "code",
   "execution_count": 4,
   "metadata": {},
   "outputs": [],
   "source": [
    "search_term = \"#Covid-19 OR #Coronavirus OR #Pandemic OR #WHO OR #CDC OR #Mask OR #Lockdown\" + \"-filter:retweets\"\n",
    "no_of_pages = 100 \n",
    "tweets_save = []\n",
    "for page in tweepy.Cursor(api.search, q = search_term, lang=\"en\",).pages(no_of_pages):\n",
    "    for status in page:\n",
    "        tweets_save.append(status.text)"
   ]
  },
  {
   "cell_type": "code",
   "execution_count": 5,
   "metadata": {},
   "outputs": [],
   "source": [
    "tweets_df = pd.DataFrame({'col': tweets_save})"
   ]
  },
  {
   "cell_type": "code",
   "execution_count": 6,
   "metadata": {},
   "outputs": [],
   "source": [
    "tweets_df.to_csv('pandemictweets.csv', encoding='utf-8')"
   ]
  },
  {
   "cell_type": "markdown",
   "metadata": {},
   "source": [
    "### 2a)"
   ]
  },
  {
   "cell_type": "code",
   "execution_count": 7,
   "metadata": {},
   "outputs": [],
   "source": [
    "user = ['WHO', 'UN']\n",
    "tweets_dict = defaultdict(list)\n",
    "no_of_pages = 5\n",
    "for users in user:\n",
    "    for page in tweepy.Cursor(api.user_timeline, id = users).pages(no_of_pages):\n",
    "        for status in page:\n",
    "            tweets_dict['user_handle'].append(users)\n",
    "            tweets_dict['text'].append(status.text)\n",
    "            tweets_dict['location'].append(status.user.location)\n",
    "            tweets_dict['friends_count'].append(status.user.friends_count)\n",
    "            tweets_dict['created_at'].append(status.created_at)\n",
    "            tweets_dict['followers_count'].append(status.user.followers_count)"
   ]
  },
  {
   "cell_type": "code",
   "execution_count": 8,
   "metadata": {},
   "outputs": [
    {
     "data": {
      "text/html": [
       "<div>\n",
       "<style scoped>\n",
       "    .dataframe tbody tr th:only-of-type {\n",
       "        vertical-align: middle;\n",
       "    }\n",
       "\n",
       "    .dataframe tbody tr th {\n",
       "        vertical-align: top;\n",
       "    }\n",
       "\n",
       "    .dataframe thead th {\n",
       "        text-align: right;\n",
       "    }\n",
       "</style>\n",
       "<table border=\"1\" class=\"dataframe\">\n",
       "  <thead>\n",
       "    <tr style=\"text-align: right;\">\n",
       "      <th></th>\n",
       "      <th>user_handle</th>\n",
       "      <th>text</th>\n",
       "      <th>location</th>\n",
       "      <th>friends_count</th>\n",
       "      <th>created_at</th>\n",
       "      <th>followers_count</th>\n",
       "    </tr>\n",
       "  </thead>\n",
       "  <tbody>\n",
       "    <tr>\n",
       "      <th>0</th>\n",
       "      <td>WHO</td>\n",
       "      <td>RT @DrTedros: My thoughts are with @captaintom...</td>\n",
       "      <td>Geneva, Switzerland</td>\n",
       "      <td>1730</td>\n",
       "      <td>2021-01-31 22:13:38</td>\n",
       "      <td>8949368</td>\n",
       "    </tr>\n",
       "    <tr>\n",
       "      <th>1</th>\n",
       "      <td>WHO</td>\n",
       "      <td>Through the elimination initiative, WHO is aim...</td>\n",
       "      <td>Geneva, Switzerland</td>\n",
       "      <td>1730</td>\n",
       "      <td>2021-01-31 21:54:44</td>\n",
       "      <td>8949368</td>\n",
       "    </tr>\n",
       "    <tr>\n",
       "      <th>2</th>\n",
       "      <td>WHO</td>\n",
       "      <td>Stopping discrimination and promoting inclusio...</td>\n",
       "      <td>Geneva, Switzerland</td>\n",
       "      <td>1730</td>\n",
       "      <td>2021-01-31 16:42:43</td>\n",
       "      <td>8949368</td>\n",
       "    </tr>\n",
       "    <tr>\n",
       "      <th>3</th>\n",
       "      <td>WHO</td>\n",
       "      <td>Untreated, #leprosy can cause progressive and ...</td>\n",
       "      <td>Geneva, Switzerland</td>\n",
       "      <td>1730</td>\n",
       "      <td>2021-01-31 12:22:06</td>\n",
       "      <td>8949368</td>\n",
       "    </tr>\n",
       "    <tr>\n",
       "      <th>4</th>\n",
       "      <td>WHO</td>\n",
       "      <td>#Leprosy is curable with multidrug therapy. Tr...</td>\n",
       "      <td>Geneva, Switzerland</td>\n",
       "      <td>1730</td>\n",
       "      <td>2021-01-31 11:17:53</td>\n",
       "      <td>8949368</td>\n",
       "    </tr>\n",
       "  </tbody>\n",
       "</table>\n",
       "</div>"
      ],
      "text/plain": [
       "  user_handle                                               text  \\\n",
       "0         WHO  RT @DrTedros: My thoughts are with @captaintom...   \n",
       "1         WHO  Through the elimination initiative, WHO is aim...   \n",
       "2         WHO  Stopping discrimination and promoting inclusio...   \n",
       "3         WHO  Untreated, #leprosy can cause progressive and ...   \n",
       "4         WHO  #Leprosy is curable with multidrug therapy. Tr...   \n",
       "\n",
       "              location  friends_count          created_at  followers_count  \n",
       "0  Geneva, Switzerland           1730 2021-01-31 22:13:38          8949368  \n",
       "1  Geneva, Switzerland           1730 2021-01-31 21:54:44          8949368  \n",
       "2  Geneva, Switzerland           1730 2021-01-31 16:42:43          8949368  \n",
       "3  Geneva, Switzerland           1730 2021-01-31 12:22:06          8949368  \n",
       "4  Geneva, Switzerland           1730 2021-01-31 11:17:53          8949368  "
      ]
     },
     "execution_count": 8,
     "metadata": {},
     "output_type": "execute_result"
    }
   ],
   "source": [
    "tweets_data = pd.DataFrame(tweets_dict)\n",
    "tweets_data.head()"
   ]
  },
  {
   "cell_type": "code",
   "execution_count": 9,
   "metadata": {},
   "outputs": [],
   "source": [
    "tweets_data.to_csv('WHOandUNtweets.csv')"
   ]
  },
  {
   "cell_type": "markdown",
   "metadata": {},
   "source": [
    "### Reddit"
   ]
  },
  {
   "cell_type": "markdown",
   "metadata": {},
   "source": [
    "### 3a) Subreddits:\n",
    "- CoronavirusUS\n",
    "- CoronavirusRecession\n",
    "- COVID19\n",
    "- WHO"
   ]
  },
  {
   "cell_type": "markdown",
   "metadata": {},
   "source": [
    "### 3b)"
   ]
  },
  {
   "cell_type": "code",
   "execution_count": 10,
   "metadata": {},
   "outputs": [],
   "source": [
    "reddit = praw.Reddit(client_id=\"***\", \n",
    "                     client_secret=\"**\",\n",
    "                     password=\"***\",\n",
    "                     user_agent=\"***\",\n",
    "                     username=\"***\",)"
   ]
  },
  {
   "cell_type": "code",
   "execution_count": 11,
   "metadata": {},
   "outputs": [],
   "source": [
    "posts_dict = defaultdict(list)"
   ]
  },
  {
   "cell_type": "code",
   "execution_count": 12,
   "metadata": {},
   "outputs": [],
   "source": [
    "l = ['CoronavirusUS', 'CoronavirusRecession', 'COVID19', 'Who']"
   ]
  },
  {
   "cell_type": "code",
   "execution_count": 13,
   "metadata": {},
   "outputs": [],
   "source": [
    "for element in l:\n",
    "    subreddit_1 = reddit.subreddit(element)\n",
    "    for submission in subreddit_1.rising(limit=30):\n",
    "        posts_dict[\"id\"].append(submission.id)\n",
    "        posts_dict[\"title\"].append(submission.title)\n",
    "        posts_dict[\"author\"].append(submission.author)\n",
    "        posts_dict[\"clicked\"].append(submission.clicked)\n",
    "        posts_dict[\"edited\"].append(submission.edited)\n",
    "        posts_dict[\"num_comments\"].append(submission.num_comments)\n",
    "        posts_dict[\"score\"].append(submission.score)\n",
    "        posts_dict[\"upvote_ratio\"].append(submission.upvote_ratio)\n",
    "        posts_dict[\"url\"].append(submission.url)\n",
    "        posts_dict[\"is_original_content\"].append(submission.is_original_content)"
   ]
  },
  {
   "cell_type": "code",
   "execution_count": 14,
   "metadata": {},
   "outputs": [],
   "source": [
    "news_data = pd.DataFrame(posts_dict)"
   ]
  },
  {
   "cell_type": "code",
   "execution_count": 15,
   "metadata": {},
   "outputs": [
    {
     "data": {
      "text/html": [
       "<div>\n",
       "<style scoped>\n",
       "    .dataframe tbody tr th:only-of-type {\n",
       "        vertical-align: middle;\n",
       "    }\n",
       "\n",
       "    .dataframe tbody tr th {\n",
       "        vertical-align: top;\n",
       "    }\n",
       "\n",
       "    .dataframe thead th {\n",
       "        text-align: right;\n",
       "    }\n",
       "</style>\n",
       "<table border=\"1\" class=\"dataframe\">\n",
       "  <thead>\n",
       "    <tr style=\"text-align: right;\">\n",
       "      <th></th>\n",
       "      <th>id</th>\n",
       "      <th>title</th>\n",
       "      <th>author</th>\n",
       "      <th>clicked</th>\n",
       "      <th>edited</th>\n",
       "      <th>num_comments</th>\n",
       "      <th>score</th>\n",
       "      <th>upvote_ratio</th>\n",
       "      <th>url</th>\n",
       "      <th>is_original_content</th>\n",
       "    </tr>\n",
       "  </thead>\n",
       "  <tbody>\n",
       "    <tr>\n",
       "      <th>0</th>\n",
       "      <td>l9odep</td>\n",
       "      <td>Some Experts Claim Covid-19 Reinfections Are ‘...</td>\n",
       "      <td>thinkB4WeSpeak</td>\n",
       "      <td>False</td>\n",
       "      <td>False</td>\n",
       "      <td>4</td>\n",
       "      <td>4</td>\n",
       "      <td>0.83</td>\n",
       "      <td>https://www.forbes.com/sites/leahrosenbaum/202...</td>\n",
       "      <td>False</td>\n",
       "    </tr>\n",
       "    <tr>\n",
       "      <th>1</th>\n",
       "      <td>l9ito1</td>\n",
       "      <td>6 US states’ Covid-19 deaths hit 1 in 500 mark</td>\n",
       "      <td>Silverseren</td>\n",
       "      <td>False</td>\n",
       "      <td>False</td>\n",
       "      <td>14</td>\n",
       "      <td>164</td>\n",
       "      <td>0.99</td>\n",
       "      <td>https://www.dhakatribune.com/world/north-ameri...</td>\n",
       "      <td>False</td>\n",
       "    </tr>\n",
       "    <tr>\n",
       "      <th>2</th>\n",
       "      <td>l9e3q2</td>\n",
       "      <td>U.S. Labor Department issues COVID-19 workplac...</td>\n",
       "      <td>thinkB4WeSpeak</td>\n",
       "      <td>False</td>\n",
       "      <td>False</td>\n",
       "      <td>18</td>\n",
       "      <td>276</td>\n",
       "      <td>1.00</td>\n",
       "      <td>https://www.reuters.com/article/us-usa-economy...</td>\n",
       "      <td>False</td>\n",
       "    </tr>\n",
       "    <tr>\n",
       "      <th>3</th>\n",
       "      <td>l9388a</td>\n",
       "      <td>Even after being vaccinated, health experts ag...</td>\n",
       "      <td>altaccountfiveyaboi</td>\n",
       "      <td>False</td>\n",
       "      <td>False</td>\n",
       "      <td>55</td>\n",
       "      <td>609</td>\n",
       "      <td>0.98</td>\n",
       "      <td>/r/UnpopularFacts/comments/l92skl/even_after_b...</td>\n",
       "      <td>False</td>\n",
       "    </tr>\n",
       "    <tr>\n",
       "      <th>4</th>\n",
       "      <td>l9g7mn</td>\n",
       "      <td>How did West Virginia become a national leader...</td>\n",
       "      <td>gigivictoria</td>\n",
       "      <td>False</td>\n",
       "      <td>False</td>\n",
       "      <td>6</td>\n",
       "      <td>48</td>\n",
       "      <td>1.00</td>\n",
       "      <td>https://www.nbcnews.com/health/health-care/we-...</td>\n",
       "      <td>False</td>\n",
       "    </tr>\n",
       "  </tbody>\n",
       "</table>\n",
       "</div>"
      ],
      "text/plain": [
       "       id                                              title  \\\n",
       "0  l9odep  Some Experts Claim Covid-19 Reinfections Are ‘...   \n",
       "1  l9ito1     6 US states’ Covid-19 deaths hit 1 in 500 mark   \n",
       "2  l9e3q2  U.S. Labor Department issues COVID-19 workplac...   \n",
       "3  l9388a  Even after being vaccinated, health experts ag...   \n",
       "4  l9g7mn  How did West Virginia become a national leader...   \n",
       "\n",
       "                author  clicked edited  num_comments  score  upvote_ratio  \\\n",
       "0       thinkB4WeSpeak    False  False             4      4          0.83   \n",
       "1          Silverseren    False  False            14    164          0.99   \n",
       "2       thinkB4WeSpeak    False  False            18    276          1.00   \n",
       "3  altaccountfiveyaboi    False  False            55    609          0.98   \n",
       "4         gigivictoria    False  False             6     48          1.00   \n",
       "\n",
       "                                                 url  is_original_content  \n",
       "0  https://www.forbes.com/sites/leahrosenbaum/202...                False  \n",
       "1  https://www.dhakatribune.com/world/north-ameri...                False  \n",
       "2  https://www.reuters.com/article/us-usa-economy...                False  \n",
       "3  /r/UnpopularFacts/comments/l92skl/even_after_b...                False  \n",
       "4  https://www.nbcnews.com/health/health-care/we-...                False  "
      ]
     },
     "execution_count": 15,
     "metadata": {},
     "output_type": "execute_result"
    }
   ],
   "source": [
    "news_data.head()"
   ]
  },
  {
   "cell_type": "markdown",
   "metadata": {},
   "source": [
    "### 3c)"
   ]
  },
  {
   "cell_type": "code",
   "execution_count": 16,
   "metadata": {},
   "outputs": [],
   "source": [
    "news_data.to_csv('pandemicReddit.csv', encoding='utf-8')"
   ]
  },
  {
   "cell_type": "markdown",
   "metadata": {},
   "source": [
    "### 3d)"
   ]
  },
  {
   "cell_type": "code",
   "execution_count": 17,
   "metadata": {},
   "outputs": [
    {
     "name": "stdout",
     "output_type": "stream",
     "text": [
      "Common tweets of CoronavirusUS\n",
      "['Some Experts Claim Covid-19 Reinfections Are ‘Not A Huge Problem’—But Nobody’s Tracking The Numbers', '6 US states’ Covid-19 deaths hit 1 in 500 mark', 'U.S. Labor Department issues COVID-19 workplace safety guidance', 'Even after being vaccinated, health experts agree you should keep wearing a mask until a large portion of the population is inoculated', 'How did West Virginia become a national leader in Covid vaccination?', 'Wisconsin’s No. 1 mink farming industry now seen as a COVID-19 risk', 'Anti-vaccine protesters temporarily shut down major coronavirus vaccine site at Dodger Stadium in Los Angeles', 'Computer-Shy Elderly Are Shouldered Aside in Vaccination Race', 'Essential workers get lost in the vaccine scrum as states prioritize the elderly', 'Scientists decode how coronavirus damages lung cells within hours', 'Some Health-Care Workers Are Still Saying No to a Covid-19 Vaccine', '30 Colorado schools, 6 colleges report new COVID-19 outbreaks in January', 'Missouri teen who beat rare cancer three times passes away from COVID-19', 'While millions of Americans wait for the COVID-19 vaccine, Hospital boards, donors get COVID shots', 'COVID Qualifier and RiteAid shot locations. Search here to see if you qualify and where to go', 'How the coronavirus flooded California and swamped L.A.', 'The pandemic forces parents to worry about another uncertain school year - CNN', 'Vaccine and HIPPA?', 'Cloth mask over N95', 'Coronavirus updates: Experts urge faster vaccinations and efforts to curb spread in response to virus variants', 'Israel vaccine Supply', 'COVID-19 Vaccine Distribution: How High-Tech California Is Now Trying To Fix It', 'Latinos dying daily from Covid-19 increase 1,000% in Los Angeles county', 'My step dad was found positive last Sunday can I see him?', 'Life after Covid: The people who will re-enter society last']\n",
      "---------------------------------------\n",
      "Common tweets of CoronavirusRecession\n",
      "['Some Experts Claim Covid-19 Reinfections Are ‘Not A Huge Problem’—But Nobody’s Tracking The Numbers', '6 US states’ Covid-19 deaths hit 1 in 500 mark', 'U.S. Labor Department issues COVID-19 workplace safety guidance', 'Even after being vaccinated, health experts agree you should keep wearing a mask until a large portion of the population is inoculated', 'How did West Virginia become a national leader in Covid vaccination?', 'Wisconsin’s No. 1 mink farming industry now seen as a COVID-19 risk', 'Anti-vaccine protesters temporarily shut down major coronavirus vaccine site at Dodger Stadium in Los Angeles', 'Computer-Shy Elderly Are Shouldered Aside in Vaccination Race', 'Essential workers get lost in the vaccine scrum as states prioritize the elderly', 'Scientists decode how coronavirus damages lung cells within hours', 'Some Health-Care Workers Are Still Saying No to a Covid-19 Vaccine', '30 Colorado schools, 6 colleges report new COVID-19 outbreaks in January', 'Missouri teen who beat rare cancer three times passes away from COVID-19', 'While millions of Americans wait for the COVID-19 vaccine, Hospital boards, donors get COVID shots', 'COVID Qualifier and RiteAid shot locations. Search here to see if you qualify and where to go', 'How the coronavirus flooded California and swamped L.A.', 'The pandemic forces parents to worry about another uncertain school year - CNN', 'Vaccine and HIPPA?', 'Cloth mask over N95', 'Coronavirus updates: Experts urge faster vaccinations and efforts to curb spread in response to virus variants', 'Israel vaccine Supply', 'COVID-19 Vaccine Distribution: How High-Tech California Is Now Trying To Fix It', 'Latinos dying daily from Covid-19 increase 1,000% in Los Angeles county', 'My step dad was found positive last Sunday can I see him?', 'Life after Covid: The people who will re-enter society last', 'Going in for an in-person interview even though Im COVID positive.', 'Full-time Jobs are Recovering in Australia', '15 Personal-Finance Lessons We Can All Learn From the Year of Covid-19 - WSJ', 'Democratic presidents keep having to save the US economy after Republican presidents run it into the ground', 'Workers lost $3.7 trillion in earnings during the pandemic', \"Biden says Congress needs to 'act now' on $1.9tn Covid relief proposal\", '$500K in federal coronavirus money used to build tubing hill in Utah’s Uintah County', 'Covid-19 has cost global workers $3.7tn in lost earnings, says ILO | Business', 'US economy shrank in 2020 by largest amount in 74 years', 'VIDEO: President Of Local Musicians Union Fears Pandemic Will Create A \"Cultural Depression\"', 'Opinion | The Republican Party is about doing nothing', 'Cats are the only visitors to Pompeii', 'In Wuhan, WHO Team Begins Probe Into Coronavirus Origin. More than 120 countries have called for an independent investigation into the origins of the virus, with many govs accusing China of not doing enough to contain its spread. \"It\\'s imperative that we get to the bottom of the early days..\"', 'Many evictions going forward despite federal moratorium', 'Biden admin orders additional 200 million doses of Covid-19 vaccine: This is in addition to the 400 million combined doses the companies had already committed to providing to the US, he said. Johnson & Johnson said it will release data for its single-dose vaccine in the coming days.', 'AstraZeneca to produce 90 million COVID-19 vaccine shots in Japan', 'Virginia-based COVID-19 test manufacturer to open production facility in Ogden, Utah', 'CVS Health (In US), joining a dozen Walgreens, opens first COVID-19 vaccine clinics in Connecticut with more to come as spring approaches: “In the short run between now and the coming weeks, they are helping us cover some of the more remote areas of the state,” Geballe, the state’s COO, said Wed.', 'U.S wasting vacin3 supplies while rest suffer!!!!', \"Job losses from virus 4 times as bad as '09 financial crisis\", 'Opinion | Unemployment Is Much Worse Than You Think — Here’s Why.', 'Latinos dying at an alarming rate due to COVID-19', 'U.K. Coronavirus Variant Probed for Increased Risk to Younger People', 'Atlantic Underground Podcast Episode #34 (Guest Dr. Carrie Madej - Part 2)', 'Nearly 20% of renters in America are behind on their payments']\n",
      "---------------------------------------\n",
      "Common tweets of COVID19\n",
      "['Some Experts Claim Covid-19 Reinfections Are ‘Not A Huge Problem’—But Nobody’s Tracking The Numbers', '6 US states’ Covid-19 deaths hit 1 in 500 mark', 'U.S. Labor Department issues COVID-19 workplace safety guidance', 'Even after being vaccinated, health experts agree you should keep wearing a mask until a large portion of the population is inoculated', 'How did West Virginia become a national leader in Covid vaccination?', 'Wisconsin’s No. 1 mink farming industry now seen as a COVID-19 risk', 'Anti-vaccine protesters temporarily shut down major coronavirus vaccine site at Dodger Stadium in Los Angeles', 'Computer-Shy Elderly Are Shouldered Aside in Vaccination Race', 'Essential workers get lost in the vaccine scrum as states prioritize the elderly', 'Scientists decode how coronavirus damages lung cells within hours', 'Some Health-Care Workers Are Still Saying No to a Covid-19 Vaccine', '30 Colorado schools, 6 colleges report new COVID-19 outbreaks in January', 'Missouri teen who beat rare cancer three times passes away from COVID-19', 'While millions of Americans wait for the COVID-19 vaccine, Hospital boards, donors get COVID shots', 'COVID Qualifier and RiteAid shot locations. Search here to see if you qualify and where to go', 'How the coronavirus flooded California and swamped L.A.', 'The pandemic forces parents to worry about another uncertain school year - CNN', 'Vaccine and HIPPA?', 'Cloth mask over N95', 'Coronavirus updates: Experts urge faster vaccinations and efforts to curb spread in response to virus variants', 'Israel vaccine Supply', 'COVID-19 Vaccine Distribution: How High-Tech California Is Now Trying To Fix It', 'Latinos dying daily from Covid-19 increase 1,000% in Los Angeles county', 'My step dad was found positive last Sunday can I see him?', 'Life after Covid: The people who will re-enter society last', 'Going in for an in-person interview even though Im COVID positive.', 'Full-time Jobs are Recovering in Australia', '15 Personal-Finance Lessons We Can All Learn From the Year of Covid-19 - WSJ', 'Democratic presidents keep having to save the US economy after Republican presidents run it into the ground', 'Workers lost $3.7 trillion in earnings during the pandemic', \"Biden says Congress needs to 'act now' on $1.9tn Covid relief proposal\", '$500K in federal coronavirus money used to build tubing hill in Utah’s Uintah County', 'Covid-19 has cost global workers $3.7tn in lost earnings, says ILO | Business', 'US economy shrank in 2020 by largest amount in 74 years', 'VIDEO: President Of Local Musicians Union Fears Pandemic Will Create A \"Cultural Depression\"', 'Opinion | The Republican Party is about doing nothing', 'Cats are the only visitors to Pompeii', 'In Wuhan, WHO Team Begins Probe Into Coronavirus Origin. More than 120 countries have called for an independent investigation into the origins of the virus, with many govs accusing China of not doing enough to contain its spread. \"It\\'s imperative that we get to the bottom of the early days..\"', 'Many evictions going forward despite federal moratorium', 'Biden admin orders additional 200 million doses of Covid-19 vaccine: This is in addition to the 400 million combined doses the companies had already committed to providing to the US, he said. Johnson & Johnson said it will release data for its single-dose vaccine in the coming days.', 'AstraZeneca to produce 90 million COVID-19 vaccine shots in Japan', 'Virginia-based COVID-19 test manufacturer to open production facility in Ogden, Utah', 'CVS Health (In US), joining a dozen Walgreens, opens first COVID-19 vaccine clinics in Connecticut with more to come as spring approaches: “In the short run between now and the coming weeks, they are helping us cover some of the more remote areas of the state,” Geballe, the state’s COO, said Wed.', 'U.S wasting vacin3 supplies while rest suffer!!!!', \"Job losses from virus 4 times as bad as '09 financial crisis\", 'Opinion | Unemployment Is Much Worse Than You Think — Here’s Why.', 'Latinos dying at an alarming rate due to COVID-19', 'U.K. Coronavirus Variant Probed for Increased Risk to Younger People', 'Atlantic Underground Podcast Episode #34 (Guest Dr. Carrie Madej - Part 2)', 'Nearly 20% of renters in America are behind on their payments', 'Evidence for SARS-CoV-2 Spike Protein in the Urine of COVID-19 patients', 'Habitual use of vitamin D supplements and risk of coronavirus disease 2019 (COVID-19) infection: a prospective study in UK Biobank', 'UK to support rest of the world to find COVID-19 virus variants', 'SARS-CoV-2 infection among healthcare workers despite the use of surgical masks and physical distancing - the role of airborne transmission', 'SARS-CoV-2 binding and neutralizing antibody levels after vaccination with Ad26.COV2.S predict durable protection in rhesus macaques', 'SARS-CoV-2 evolution and vaccines: cause for concern?', 'More than 50 Long-term effects of COVID-19: a systematic review and meta-analysis', 'B cell memory: understanding COVID-19', 'Genomic monitoring of SARS-CoV-2 uncovers an Nsp1 deletion variant that modulates type I interferon response', 'Stable neutralizing antibody levels six months after mild and severe COVID-19 episode', 'REACT-1 round 8 final report: high average prevalence with regional heterogeneity of trends in SARS-CoV-2 infection in the community in England during January 2021', 'Impact of age, gender, ethnicity and prior disease status on immunogenicity following administration of a single dose of the BNT162b2 mRNA Covid-19 Vaccine: real-world evidence from Israeli healthcare workers, December-January 2020', 'A single dose of replication-competent VSV-vectored vaccine expressing SARS-CoV-2 S1 protects against virus replication in a hamster model of severe COVID-19', 'Mapping a Pandemic: SARS-CoV-2 Seropositivity in the United States', 'Treatment of COVID-19 with remdesivir in the absence of humoral immunity: a case report', 'High-dimensional profiling reveals phenotypic heterogeneity and disease-specific alterations of granulocytes in COVID-19', '17β‐estradiol reduces SARS‐CoV‐2 infection in vitro', 'Effect of ambient temperature on respiratory tract cells exposed to SARS-CoV-2 viral mimicking nanospheres—An experimental study', 'Lessons in antiviral immunity', 'THE EFFECTIVENESS OF THE FIRST DOSE OF BNT162b2 VACCINE IN REDUCING SARS-COV-2 INFECTION 13-24 DAYS AFTER IMMUNIZATION: REAL-WORLD EVIDENCE']\n",
      "---------------------------------------\n"
     ]
    },
    {
     "name": "stdout",
     "output_type": "stream",
     "text": [
      "Common tweets of Who\n",
      "['Some Experts Claim Covid-19 Reinfections Are ‘Not A Huge Problem’—But Nobody’s Tracking The Numbers', '6 US states’ Covid-19 deaths hit 1 in 500 mark', 'U.S. Labor Department issues COVID-19 workplace safety guidance', 'Even after being vaccinated, health experts agree you should keep wearing a mask until a large portion of the population is inoculated', 'How did West Virginia become a national leader in Covid vaccination?', 'Wisconsin’s No. 1 mink farming industry now seen as a COVID-19 risk', 'Anti-vaccine protesters temporarily shut down major coronavirus vaccine site at Dodger Stadium in Los Angeles', 'Computer-Shy Elderly Are Shouldered Aside in Vaccination Race', 'Essential workers get lost in the vaccine scrum as states prioritize the elderly', 'Scientists decode how coronavirus damages lung cells within hours', 'Some Health-Care Workers Are Still Saying No to a Covid-19 Vaccine', '30 Colorado schools, 6 colleges report new COVID-19 outbreaks in January', 'Missouri teen who beat rare cancer three times passes away from COVID-19', 'While millions of Americans wait for the COVID-19 vaccine, Hospital boards, donors get COVID shots', 'COVID Qualifier and RiteAid shot locations. Search here to see if you qualify and where to go', 'How the coronavirus flooded California and swamped L.A.', 'The pandemic forces parents to worry about another uncertain school year - CNN', 'Vaccine and HIPPA?', 'Cloth mask over N95', 'Coronavirus updates: Experts urge faster vaccinations and efforts to curb spread in response to virus variants', 'Israel vaccine Supply', 'COVID-19 Vaccine Distribution: How High-Tech California Is Now Trying To Fix It', 'Latinos dying daily from Covid-19 increase 1,000% in Los Angeles county', 'My step dad was found positive last Sunday can I see him?', 'Life after Covid: The people who will re-enter society last', 'Going in for an in-person interview even though Im COVID positive.', 'Full-time Jobs are Recovering in Australia', '15 Personal-Finance Lessons We Can All Learn From the Year of Covid-19 - WSJ', 'Democratic presidents keep having to save the US economy after Republican presidents run it into the ground', 'Workers lost $3.7 trillion in earnings during the pandemic', \"Biden says Congress needs to 'act now' on $1.9tn Covid relief proposal\", '$500K in federal coronavirus money used to build tubing hill in Utah’s Uintah County', 'Covid-19 has cost global workers $3.7tn in lost earnings, says ILO | Business', 'US economy shrank in 2020 by largest amount in 74 years', 'VIDEO: President Of Local Musicians Union Fears Pandemic Will Create A \"Cultural Depression\"', 'Opinion | The Republican Party is about doing nothing', 'Cats are the only visitors to Pompeii', 'In Wuhan, WHO Team Begins Probe Into Coronavirus Origin. More than 120 countries have called for an independent investigation into the origins of the virus, with many govs accusing China of not doing enough to contain its spread. \"It\\'s imperative that we get to the bottom of the early days..\"', 'Many evictions going forward despite federal moratorium', 'Biden admin orders additional 200 million doses of Covid-19 vaccine: This is in addition to the 400 million combined doses the companies had already committed to providing to the US, he said. Johnson & Johnson said it will release data for its single-dose vaccine in the coming days.', 'AstraZeneca to produce 90 million COVID-19 vaccine shots in Japan', 'Virginia-based COVID-19 test manufacturer to open production facility in Ogden, Utah', 'CVS Health (In US), joining a dozen Walgreens, opens first COVID-19 vaccine clinics in Connecticut with more to come as spring approaches: “In the short run between now and the coming weeks, they are helping us cover some of the more remote areas of the state,” Geballe, the state’s COO, said Wed.', 'U.S wasting vacin3 supplies while rest suffer!!!!', \"Job losses from virus 4 times as bad as '09 financial crisis\", 'Opinion | Unemployment Is Much Worse Than You Think — Here’s Why.', 'Latinos dying at an alarming rate due to COVID-19', 'U.K. Coronavirus Variant Probed for Increased Risk to Younger People', 'Atlantic Underground Podcast Episode #34 (Guest Dr. Carrie Madej - Part 2)', 'Nearly 20% of renters in America are behind on their payments', 'Evidence for SARS-CoV-2 Spike Protein in the Urine of COVID-19 patients', 'Habitual use of vitamin D supplements and risk of coronavirus disease 2019 (COVID-19) infection: a prospective study in UK Biobank', 'UK to support rest of the world to find COVID-19 virus variants', 'SARS-CoV-2 infection among healthcare workers despite the use of surgical masks and physical distancing - the role of airborne transmission', 'SARS-CoV-2 binding and neutralizing antibody levels after vaccination with Ad26.COV2.S predict durable protection in rhesus macaques', 'SARS-CoV-2 evolution and vaccines: cause for concern?', 'More than 50 Long-term effects of COVID-19: a systematic review and meta-analysis', 'B cell memory: understanding COVID-19', 'Genomic monitoring of SARS-CoV-2 uncovers an Nsp1 deletion variant that modulates type I interferon response', 'Stable neutralizing antibody levels six months after mild and severe COVID-19 episode', 'REACT-1 round 8 final report: high average prevalence with regional heterogeneity of trends in SARS-CoV-2 infection in the community in England during January 2021', 'Impact of age, gender, ethnicity and prior disease status on immunogenicity following administration of a single dose of the BNT162b2 mRNA Covid-19 Vaccine: real-world evidence from Israeli healthcare workers, December-January 2020', 'A single dose of replication-competent VSV-vectored vaccine expressing SARS-CoV-2 S1 protects against virus replication in a hamster model of severe COVID-19', 'Mapping a Pandemic: SARS-CoV-2 Seropositivity in the United States', 'Treatment of COVID-19 with remdesivir in the absence of humoral immunity: a case report', 'High-dimensional profiling reveals phenotypic heterogeneity and disease-specific alterations of granulocytes in COVID-19', '17β‐estradiol reduces SARS‐CoV‐2 infection in vitro', 'Effect of ambient temperature on respiratory tract cells exposed to SARS-CoV-2 viral mimicking nanospheres—An experimental study', 'Lessons in antiviral immunity', 'THE EFFECTIVENESS OF THE FIRST DOSE OF BNT162b2 VACCINE IN REDUCING SARS-COV-2 INFECTION 13-24 DAYS AFTER IMMUNIZATION: REAL-WORLD EVIDENCE', 'Confirmed Death Cases Rate of China', 'Mapped: How Much Each Country Contributes to the World Health Organization', 'Donald Trump is talking total tosh about WHO and Covid-19 coronavirus – Professor Hugh Pennington | The Scotsman', 'Statement by President von der Leyen at the joint press conference with other leaders, organised by the WHO, on the call for global action against the coronavirus – European Commission, Friday 2020-04-24', 'Is the WHA associated with the WHO?', 'C0VID 19 known since mid Nov', 'Forgotten', \"I won't shed a tear for WHO\", 'WHO IS RESPONSIBLE FOR THE OUTBREAK?', \"Hong Kong broadcaster rejects WHO claim that interview with top doctor was 'distorted'\", 'W.H.O. Gets Trumped', 'Petition to support WHO in the fight against COVID19', 'THE AGE OF QUARANTINE', 'Let’s fight this together', 'Candidate to Lead the W.H.O. Accused of Covering Up Epidemics', 'What does the US get from supporting WHO?', 'China Helped Put This Man In Charge Of the World Health Organization—Is It Paying Off?', 'Just thought about EHS and 5G', 'Taiwan replied WHO', 'WHO warned of transmission risk in January, despite Trump claims', 'WHO Tedro Parody (Eng. Sub)', 'How much does each country actually contribute to WHO funding? Please help me understand the news...', 'Trump pulls WHO funds?', 'WHO should rename to China Health Organizations..?', 'Wtf! WHO was founded by China. (Literally)']\n",
      "---------------------------------------\n"
     ]
    }
   ],
   "source": [
    "# One way to do it. You can also use intersect() or merge()\n",
    "hot_1 = []\n",
    "common_1 = []\n",
    "for element in l:\n",
    "    subreddit_1 = reddit.subreddit(element)\n",
    "    for submission in subreddit_1.hot(limit=50):\n",
    "        hot_1.append(submission.id)\n",
    "    for submission in subreddit_1.rising(limit=50):\n",
    "        if submission.id in hot_1:\n",
    "            common_1.append(submission.title)\n",
    "    print(f\"Common tweets of {element}\")\n",
    "    print(common_1)\n",
    "    print('---------------------------------------')"
   ]
  },
  {
   "cell_type": "markdown",
   "metadata": {},
   "source": [
    "### Bonus Question"
   ]
  },
  {
   "cell_type": "code",
   "execution_count": 18,
   "metadata": {},
   "outputs": [
    {
     "name": "stdout",
     "output_type": "stream",
     "text": [
      "Rules and Time of Subreddit: CoronavirusUS\n",
      "\n",
      "\n",
      "Posts must be specific to the USA/Canada 2020-02-13 04:32:40\n",
      "No medical advice and no treatments until phase 1 clinical trials are completed (no new treatments) 2020-03-15 08:59:14\n",
      "Be polite and respectful. 2020-02-13 04:30:16\n",
      "No Reposts. 2020-02-13 04:38:17\n",
      "No rants. Posts must have a point. 2020-03-13 01:44:47\n",
      "No misinformation. Specific claims require credible sources. 2020-02-13 04:35:11\n",
      "No personal anxiety posts. 2020-02-14 23:47:55\n",
      "No sales posts of any type without permission. 2020-03-14 12:18:17\n",
      "No Unconstructive Politics! We're all Americans. 2020-02-21 05:28:47\n",
      "Media policy 2020-02-13 04:36:42\n",
      "No memes 2020-03-19 03:32:10\n",
      "-------------------------------------\n",
      "Rules and Time of Subreddit: CoronavirusRecession\n",
      "\n",
      "\n",
      "Be kind. 2020-03-19 12:26:50\n",
      "Stay On-Topic. 2020-03-19 12:28:04\n",
      "No Medical Advice. 2020-03-19 12:29:47\n",
      "No Conspiracy theories. 2020-03-19 12:31:17\n",
      "No Edited/Sensationalized article titles. 2020-03-22 02:04:29\n",
      "-------------------------------------\n",
      "Rules and Time of Subreddit: COVID19\n",
      "\n",
      "\n",
      "Be Civil 2020-02-11 23:57:13\n",
      "Use Scientific Sources 2020-02-12 00:00:12\n",
      "No Inappropriate/Sensationalized Titles 2020-02-11 23:57:40\n",
      "Media Policy 2020-02-11 23:59:51\n",
      "No Reposting Information 2020-02-11 23:58:04\n",
      "No Unsourced Speculation or Anecdotal Discussion 2020-02-12 06:59:33\n",
      "No Off-Topic or Political Discussions 2020-02-12 00:00:36\n",
      "No Economic Discussions 2020-02-12 06:52:38\n",
      "No Medical Advice 2020-02-13 10:14:59\n",
      "No Low Effort Posts/Comments/Meta Drama/Self promotion 2020-02-14 00:54:59\n",
      "No data trackers 2020-04-22 14:33:57\n",
      "No Surveys 2020-04-28 13:18:45\n",
      "-------------------------------------\n",
      "Rules and Time of Subreddit: Who\n",
      "\n",
      "\n",
      "-------------------------------------\n"
     ]
    }
   ],
   "source": [
    "for element in l:\n",
    "    subreddit = reddit.subreddit(element)\n",
    "    print(f\"Rules and Time of Subreddit: {element}\")\n",
    "    print('\\n')\n",
    "    for submission in subreddit.rules:\n",
    "        print(submission, datetime.utcfromtimestamp(int(submission.created_utc)).strftime('%Y-%m-%d %H:%M:%S'))\n",
    "    print('-------------------------------------')"
   ]
  }
 ],
 "metadata": {
  "kernelspec": {
   "display_name": "Python 3",
   "language": "python",
   "name": "python3"
  },
  "language_info": {
   "codemirror_mode": {
    "name": "ipython",
    "version": 3
   },
   "file_extension": ".py",
   "mimetype": "text/x-python",
   "name": "python",
   "nbconvert_exporter": "python",
   "pygments_lexer": "ipython3",
   "version": "3.8.7"
  }
 },
 "nbformat": 4,
 "nbformat_minor": 4
}
