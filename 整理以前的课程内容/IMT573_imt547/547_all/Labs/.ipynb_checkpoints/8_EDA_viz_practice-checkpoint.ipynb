{
 "cells": [
  {
   "cell_type": "markdown",
   "metadata": {},
   "source": [
    "# Exploratory Data Analysis\n",
    "\n",
    "Python Plotting for Exploratory Data Analysis https://pythonplot.com/"
   ]
  },
  {
   "cell_type": "markdown",
   "metadata": {},
   "source": [
    "### Common visualizations for low-dimensional data:  \n",
    "* DataFrame.plot library\n",
    "* Histogram/KDE:   1D, Quantitative, distributions\n",
    "* Bar:  2D, Cat x Quant, comparing points\n",
    "* Pie: 2D, Cat x Quant, comparing points to whole\n",
    "* Line/area:  2D, Quant(Continuous) x Quant, trend\n",
    "* Scatter: 2D, Quant x Quant, correlation\n",
    "* Annotating plots: Axes.text(), .add_line(), .add_path(), .annotate()"
   ]
  },
  {
   "cell_type": "code",
   "execution_count": null,
   "metadata": {},
   "outputs": [],
   "source": [
    "### Libraries:\n",
    "import pandas as pd\n",
    "import matplotlib\n",
    "import matplotlib.pyplot as plt\n",
    "\n",
    "### Choose one of these graphical output styles:\n",
    "\n",
    "# Static (most reliable). Remember magic commands\n",
    "%matplotlib inline"
   ]
  },
  {
   "cell_type": "markdown",
   "metadata": {},
   "source": [
    "### data import"
   ]
  },
  {
   "cell_type": "code",
   "execution_count": null,
   "metadata": {},
   "outputs": [],
   "source": [
    "s = pd.read_csv(\"data/Survey-clean.csv\")"
   ]
  },
  {
   "cell_type": "code",
   "execution_count": null,
   "metadata": {},
   "outputs": [],
   "source": [
    "s.head()"
   ]
  },
  {
   "cell_type": "markdown",
   "metadata": {},
   "source": [
    "## Common visualizations for low-dimensional data\n"
   ]
  },
  {
   "cell_type": "markdown",
   "metadata": {},
   "source": [
    "### Histogram\n",
    "\n",
    "https://pandas.pydata.org/pandas-docs/stable/reference/api/pandas.DataFrame.hist.html\n",
    "\n",
    "https://matplotlib.org/api/_as_gen/matplotlib.pyplot.hist.html"
   ]
  },
  {
   "cell_type": "code",
   "execution_count": null,
   "metadata": {},
   "outputs": [],
   "source": [
    "# Histogram\n",
    "s.Height.plot.hist()"
   ]
  },
  {
   "cell_type": "code",
   "execution_count": null,
   "metadata": {},
   "outputs": [],
   "source": [
    "s.Height.plot.kde()"
   ]
  },
  {
   "cell_type": "markdown",
   "metadata": {},
   "source": [
    "<span class=\"mark\">**TODO**</span>\n",
    "plot a histogram on `Age` from the survey data"
   ]
  },
  {
   "cell_type": "code",
   "execution_count": null,
   "metadata": {},
   "outputs": [],
   "source": [
    "## Your code below\n",
    "\n",
    "\n"
   ]
  },
  {
   "cell_type": "code",
   "execution_count": null,
   "metadata": {},
   "outputs": [],
   "source": [
    "# Also try with\n",
    "# s.hist()"
   ]
  },
  {
   "cell_type": "markdown",
   "metadata": {},
   "source": [
    "### Bar Chart\n",
    "\n",
    "https://pandas.pydata.org/pandas-docs/stable/reference/api/pandas.DataFrame.plot.bar.html"
   ]
  },
  {
   "cell_type": "code",
   "execution_count": null,
   "metadata": {},
   "outputs": [],
   "source": [
    "# Bar chart\n",
    "s.plot.bar(x='Name', y='Height', figsize=(20,3), color='steelblue')\n",
    "# double click on the chart to expand"
   ]
  },
  {
   "cell_type": "markdown",
   "metadata": {},
   "source": [
    "#### Dataset: Data from a Social Media platform (Reddit) \n",
    "Let's practice EDA with some social media data.\n",
    "\n",
    "CSV File containing Reddit user activity form 2004\n",
    "\n",
    "* author: Reddit username\n",
    "* num_comments : number of comments made\n",
    "* num_subs: number of subreddits participated in\n",
    "* karma : total Reddit score accumulated \n",
    "* controv : total number of controvertial comments ---(comments with both, high upvotes and dowsvotes)\n",
    "* gild : number of comments that received Reddit gold from other users \n",
    "* verbosity: average length of the comment"
   ]
  },
  {
   "cell_type": "code",
   "execution_count": null,
   "metadata": {},
   "outputs": [],
   "source": [
    "rdata = pd.read_csv(\"data/reddit_2007_author.csv\")\n",
    "rdata.head()"
   ]
  },
  {
   "cell_type": "code",
   "execution_count": null,
   "metadata": {},
   "outputs": [],
   "source": [
    "type(pd.to_numeric(rdata.controv))"
   ]
  },
  {
   "cell_type": "markdown",
   "metadata": {},
   "source": [
    "<span class=\"mark\">QUESTION:</span> Visually what's the difference in the histogram that you see here for Reddit versus the one you saw for height? What does it tell you about the distribution of data in both cases?"
   ]
  },
  {
   "cell_type": "markdown",
   "metadata": {},
   "source": [
    "#### Plot the distribution of comments made by users. We are not interested in users who make > 200 comments.\n",
    "\n",
    "*Hint: filter based on this condition*\n",
    "\n",
    "\n",
    "<span class=\"mark\">TODO:</span>"
   ]
  },
  {
   "cell_type": "code",
   "execution_count": null,
   "metadata": {},
   "outputs": [],
   "source": [
    "# Your code below.\n",
    "\n"
   ]
  },
  {
   "cell_type": "code",
   "execution_count": null,
   "metadata": {},
   "outputs": [],
   "source": [
    "# hint code: users who make more than 5000 comments.\n",
    "\n",
    "rdata[rdata.num_comments > 5000]"
   ]
  },
  {
   "cell_type": "markdown",
   "metadata": {},
   "source": [
    "#### Left-skewed distribution. \n",
    "A lot of people make few comments and a few people make a lot of comments skewing the histogram. Now lets look at the distribution of top 100 num_comments"
   ]
  },
  {
   "cell_type": "code",
   "execution_count": null,
   "metadata": {},
   "outputs": [],
   "source": [
    "f1 = rdata.sort_values(by='num_comments', ascending=False).head(100)\n",
    "f1.num_comments.plot.hist()"
   ]
  },
  {
   "cell_type": "code",
   "execution_count": null,
   "metadata": {},
   "outputs": [],
   "source": [
    "# who made these to comments?\n",
    "\n",
    "f1"
   ]
  },
  {
   "cell_type": "markdown",
   "metadata": {},
   "source": [
    "### Bar chart\n",
    "\n",
    "Plotting number of comments made by each user"
   ]
  },
  {
   "cell_type": "code",
   "execution_count": null,
   "metadata": {},
   "outputs": [],
   "source": [
    "f1.plot.bar(x='author', y='num_comments', figsize=(20,3), color='purple')"
   ]
  },
  {
   "cell_type": "markdown",
   "metadata": {},
   "source": [
    "#### I want the axes to be properly labels. Too hard to read."
   ]
  },
  {
   "cell_type": "code",
   "execution_count": null,
   "metadata": {},
   "outputs": [],
   "source": [
    "f1.plot.bar(x='author', y='num_comments', figsize=(20,3), color='purple')\n",
    "plt.xlabel('Author', fontsize=16) # Add x & y label, change font size\n",
    "plt.ylabel('# of Comments', fontsize=16)"
   ]
  },
  {
   "cell_type": "markdown",
   "metadata": {},
   "source": [
    "<span class=\"mark\">TODO</span>: The legend is too small. Can you change the size of the legend? *medium difficulty*"
   ]
  },
  {
   "cell_type": "code",
   "execution_count": null,
   "metadata": {},
   "outputs": [],
   "source": [
    "# Your code below\n",
    "\n",
    "\n"
   ]
  },
  {
   "cell_type": "markdown",
   "metadata": {},
   "source": [
    "### Scatter plot\n",
    "\n",
    "visualizing two quantitative (continuous) variables\n",
    "\n",
    "https://pandas.pydata.org/pandas-docs/stable/reference/api/pandas.DataFrame.plot.scatter.html"
   ]
  },
  {
   "cell_type": "code",
   "execution_count": null,
   "metadata": {},
   "outputs": [],
   "source": [
    "# How does the karma earned by the user relate to user's contribution (# of comments)?\n",
    "\n",
    "p = f1.plot.scatter(x='num_comments', y='karma', \n",
    "                    c = 'verbosity', #color\n",
    "                    colormap=plt.cm.cool, \n",
    "                    #s=rdata.controv, #marker size\n",
    "                    figsize=(15,10), \n",
    "                    alpha=0.5, #between 0 (transparent) and 1 (opaque).\n",
    "                    sharex=False) # sharex = convinces xlabel to show\n",
    "p.set_xlabel(\"Number of comments\", fontsize=16)\n",
    "p.set_ylabel(\"Karma\", fontsize=16)"
   ]
  },
  {
   "cell_type": "markdown",
   "metadata": {},
   "source": [
    "<span class=\"mark\">**TODO**</span>\n",
    "Try now with the survey data. **2 & 3 Difficult**\n",
    "\n",
    "* 1. scatterplot of plot age vs. height\n",
    "* 2. If you are able to do 1, then also add year 'Born' on your plot to show additional information about when the person was born\n",
    "* 3. If you are able to do 1 and 2, then show number of siblings as a marker size attribute"
   ]
  },
  {
   "cell_type": "code",
   "execution_count": null,
   "metadata": {},
   "outputs": [],
   "source": [
    "# Your code below"
   ]
  }
 ],
 "metadata": {
  "kernelspec": {
   "display_name": "Python 3",
   "language": "python",
   "name": "python3"
  },
  "language_info": {
   "codemirror_mode": {
    "name": "ipython",
    "version": 3
   },
   "file_extension": ".py",
   "mimetype": "text/x-python",
   "name": "python",
   "nbconvert_exporter": "python",
   "pygments_lexer": "ipython3",
   "version": "3.7.10"
  }
 },
 "nbformat": 4,
 "nbformat_minor": 4
}
