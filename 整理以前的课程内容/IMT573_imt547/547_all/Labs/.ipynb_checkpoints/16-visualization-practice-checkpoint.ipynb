{
 "cells": [
  {
   "cell_type": "markdown",
   "metadata": {},
   "source": [
    "### Data science process:\n",
    "1. Define problem\n",
    "2. Collect data\n",
    "3. Process data\n",
    "4. **Visualize data**\n",
    "5. **Analyze data**\n",
    "6. Report\n",
    "\n",
    "### Color encoding:\n",
    "See slides.\n",
    " * categorical (hue) vs quantitative (saturation,value)\n",
    " * Colormaps: https://matplotlib.org/examples/color/colormaps_reference.html \n",
    " \n",
    " https://matplotlib.org/stable/tutorials/colors/colormaps.html?highlight=colormaps\n",
    "\n",
    "\n",
    "### [Common visualizations for low-dimensional data](#Common-visualizations-for-low-dimensional-data):  \n",
    "* DataFrame.plot library\n",
    "* Histogram/KDE:   1D, Quantitative, distributions\n",
    "* Bar:  2D, Cat x Quant, comparing points\n",
    "* Pie: 2D, Cat x Quant, comparing points to whole\n",
    "* Line/area:  2D, Quant(Continuous) x Quant, trend\n",
    "* Scatter: 2D, Quant x Quant, correlation\n",
    "* Annotating plots: Axes.text(), .add_line(), .add_path(), .annotate()\n",
    "\n",
    "\n",
    "### [Common visualizations for high-dimensional data](#Multi-dimensional-data-visualization):  \n",
    "* pandas.plotting library\n",
    "* Scatterplot glyphs  https://bost.ocks.org/mike/nations/ \n",
    "* Distribution plots:\n",
    "    * Histogram matrix http://square.github.io/crossfilter/\n",
    "    * Boxplots, KDEs \n",
    "* Scatterplot Matrix https://bl.ocks.org/mbostock/4063663\n",
    "* Parallel Coordinates \thttps://bl.ocks.org/jasondavies/1341281 \n",
    "* Heatmaps http://bl.ocks.org/mbostock/3202354\n",
    "* Interaction:  Dynamic Queries https://www.gapminder.org/world/  https://www.youtube.com/watch?v=5X8XY9430fM "
   ]
  },
  {
   "cell_type": "markdown",
   "metadata": {},
   "source": [
    "## Review from the EDA class\n",
    "Afterall the first step after data collection is EDA and viz that goes with EDA\n",
    "\n",
    "### reviewing common viz for low-dimensional data"
   ]
  },
  {
   "cell_type": "code",
   "execution_count": null,
   "metadata": {},
   "outputs": [],
   "source": [
    "### Libraries:\n",
    "import pandas as pd\n",
    "import numpy as np\n",
    "import matplotlib\n",
    "import matplotlib.pyplot as plt\n",
    "\n",
    "# Static (most reliable)\n",
    "%matplotlib inline "
   ]
  },
  {
   "cell_type": "code",
   "execution_count": null,
   "metadata": {},
   "outputs": [],
   "source": [
    "s = pd.read_csv(\"data/Survey-clean.csv\")\n",
    "s"
   ]
  },
  {
   "cell_type": "markdown",
   "metadata": {},
   "source": [
    "## Common visualizations for low-dimensional data\n",
    "\n",
    "### Histogram\n",
    "\n",
    "https://pandas.pydata.org/pandas-docs/stable/reference/api/pandas.DataFrame.hist.html\n",
    "\n",
    "https://matplotlib.org/api/_as_gen/matplotlib.pyplot.hist.html"
   ]
  },
  {
   "cell_type": "code",
   "execution_count": null,
   "metadata": {},
   "outputs": [],
   "source": [
    "# Histogram\n",
    "s.Height.plot.hist()"
   ]
  },
  {
   "cell_type": "code",
   "execution_count": null,
   "metadata": {},
   "outputs": [],
   "source": [
    "s.Height.plot.kde()"
   ]
  },
  {
   "cell_type": "markdown",
   "metadata": {},
   "source": [
    "### Bar Chart\n",
    "\n",
    "https://pandas.pydata.org/pandas-docs/stable/reference/api/pandas.DataFrame.plot.bar.html"
   ]
  },
  {
   "cell_type": "code",
   "execution_count": null,
   "metadata": {},
   "outputs": [],
   "source": [
    "# Bar chart\n",
    "s.plot.bar(x='Name', y='Height', figsize=(20,3), color='steelblue')\n",
    "# double click on the chart to expand"
   ]
  },
  {
   "cell_type": "markdown",
   "metadata": {},
   "source": [
    "**<span class=\"mark\">TODO</span>**: What are the marks and channels here?"
   ]
  },
  {
   "cell_type": "markdown",
   "metadata": {},
   "source": [
    "#### Data from a Social Media platform (Reddit) \n",
    "Let's practice EDA with some social media data.\n",
    "\n",
    "CSV File containing Reddit user activity form 2004\n",
    "\n",
    "* author: Reddit username\n",
    "* num_comments : number of comments made\n",
    "* num_subs: number of subreddits participated in\n",
    "* karma : total Reddit score accumulated \n",
    "* controv : total number of controvertial comments ---(comments with both, high upvotes and dowsvotes)\n",
    "* gild : number of comments that received Reddit gold from other users \n",
    "* verbosity: average length of the comment"
   ]
  },
  {
   "cell_type": "code",
   "execution_count": null,
   "metadata": {},
   "outputs": [],
   "source": [
    "rdata = pd.read_csv(\"data/reddit_2007_author.csv\")\n",
    "rdata.head()"
   ]
  },
  {
   "cell_type": "markdown",
   "metadata": {},
   "source": [
    "## Common visualizations for low-dimensional data\n",
    "\n",
    "### Histogram\n",
    "\n",
    "https://pandas.pydata.org/pandas-docs/stable/reference/api/pandas.DataFrame.hist.html\n",
    "\n",
    "https://matplotlib.org/api/_as_gen/matplotlib.pyplot.hist.html\n",
    "\n",
    "#### Plot the distribution of number of comments made by the users"
   ]
  },
  {
   "cell_type": "code",
   "execution_count": null,
   "metadata": {},
   "outputs": [],
   "source": [
    "rdata.num_comments.plot.hist()"
   ]
  },
  {
   "cell_type": "markdown",
   "metadata": {},
   "source": [
    "#### Plot the distribution of comments made by users. We are not interested in users who make > 200 comments."
   ]
  },
  {
   "cell_type": "code",
   "execution_count": null,
   "metadata": {},
   "outputs": [],
   "source": [
    "rdata.num_comments[rdata.num_comments < 200].plot.hist()"
   ]
  },
  {
   "cell_type": "markdown",
   "metadata": {},
   "source": [
    "#### Left-skewed distribution. \n",
    "A lot of people make few comments and a few people make a lot of comments skewing the histogram. Now lets look at the distribution of top 100 num_comments"
   ]
  },
  {
   "cell_type": "code",
   "execution_count": null,
   "metadata": {},
   "outputs": [],
   "source": [
    "f1 = rdata.sort_values(by='num_comments', ascending=False).head(100)\n",
    "f1.num_comments.plot.hist()"
   ]
  },
  {
   "cell_type": "code",
   "execution_count": null,
   "metadata": {},
   "outputs": [],
   "source": [
    "# who made these to comments?\n",
    "\n",
    "f1"
   ]
  },
  {
   "cell_type": "markdown",
   "metadata": {},
   "source": [
    "### Bar chart\n",
    "\n",
    "Plotting number of comments made by each user"
   ]
  },
  {
   "cell_type": "code",
   "execution_count": null,
   "metadata": {},
   "outputs": [],
   "source": [
    "f1.plot.bar(x='author', y='num_comments', figsize=(20,3), color='purple')"
   ]
  },
  {
   "cell_type": "markdown",
   "metadata": {},
   "source": [
    "#### properly labeling the axes"
   ]
  },
  {
   "cell_type": "code",
   "execution_count": null,
   "metadata": {},
   "outputs": [],
   "source": [
    "f1.plot.bar(x='author', y='num_comments', figsize=(20,3), color='purple')\n",
    "plt.xlabel('Author', fontsize=16) # Add x & y label, change font size\n",
    "plt.ylabel('# of Comments', fontsize=16)"
   ]
  },
  {
   "cell_type": "markdown",
   "metadata": {},
   "source": [
    "### Scatter plot\n",
    "\n",
    "visualizing two quantitative (continuous) variables\n",
    "\n",
    "https://pandas.pydata.org/pandas-docs/stable/reference/api/pandas.DataFrame.plot.scatter.html\n",
    "\n",
    "**How does the karma earned by the user relate to user's contribution (# of comments)?**\n",
    "\n",
    "Basic scatterplot shown, but you can add more parameters to visualize additional attributes on the same plot.\n",
    "\n",
    "Recall EDA class and read the pandas scatterplot documentation."
   ]
  },
  {
   "cell_type": "code",
   "execution_count": null,
   "metadata": {},
   "outputs": [],
   "source": [
    "# How does the karma earned by the user relate to user's contribution (# of comments)?\n",
    "\n",
    "p = f1.plot.scatter(x='num_comments', y='karma') # you can include additional parameters. Enhance the visualization.\n",
    "p.set_xlabel(\"Number of comments\", fontsize=16)\n",
    "p.set_ylabel(\"Karma\", fontsize=16)"
   ]
  },
  {
   "cell_type": "code",
   "execution_count": null,
   "metadata": {},
   "outputs": [],
   "source": [
    "# Your code to include additional parameters. Enhance the visualization."
   ]
  },
  {
   "cell_type": "markdown",
   "metadata": {},
   "source": [
    "### EDA for your projects\n",
    "\n",
    "**<span class=\"mark\">TODO shortly with your group</span>** Start thinking how you would conduct visual EDA with the data that you have collected for your projects."
   ]
  },
  {
   "cell_type": "markdown",
   "metadata": {},
   "source": [
    "## Annotating plots \n",
    "**new stuff**\n",
    "\n",
    "* create a Line2D  https://matplotlib.org/3.1.1/api/_as_gen/matplotlib.lines.Line2D.html#matplotlib.lines.Line2D\n",
    "* plot.annotate https://matplotlib.org/api/_as_gen/matplotlib.pyplot.annotate.html"
   ]
  },
  {
   "cell_type": "code",
   "execution_count": null,
   "metadata": {},
   "outputs": [],
   "source": [
    "# Annotate a plot\n",
    "plot = s.plot.scatter(x='Born', y='Spicy')\n",
    "plot.text(2000, 3, \"I'm here!\", color='Red')\n",
    "plot.add_line(matplotlib.lines.Line2D(\n",
    "    [2000, 4000, 6000], [50, 0, 40], color=\"Orange\"))  #Create a Line2D instance with x and y data in sequences xdata, ydata.\n",
    "plot.add_patch(matplotlib.patches.Ellipse(\n",
    "    (3000,30), 2000, 10, color='Maroon'))\n",
    "plot.annotate(\"Dude\", (8000,40), xytext=(10000,20), \n",
    "               bbox=dict(), arrowprops=dict(facecolor='red'))  #try with arrowprops=dict(facecolor='red')"
   ]
  },
  {
   "cell_type": "markdown",
   "metadata": {},
   "source": [
    "## Multi-dimensional data visualization\n",
    "\n",
    "pandas.plotting."
   ]
  },
  {
   "cell_type": "code",
   "execution_count": null,
   "metadata": {},
   "outputs": [],
   "source": [
    "f1.hist(figsize=(10,10))"
   ]
  },
  {
   "cell_type": "markdown",
   "metadata": {},
   "source": [
    "<span class=\"mark\">QUESTION</span>: What do you observe in each of these distributions?"
   ]
  },
  {
   "cell_type": "markdown",
   "metadata": {},
   "source": [
    "## Parallel Coordinates (less used)\n",
    "\n",
    "* each variable is given its own axis \n",
    "* all the axes are placed in parallel to each other.\n",
    "* Each axis can have a different scale, or all the axes can be normalised to keep all the scales uniform. \n",
    "* Values are plotted as a series of lines that connected across all the axes. \n",
    "* The order the axes can impact interpretation \n",
    "* relationships between adjacent variables are easier to perceive, then for non-adjacent variables.\n",
    "* DOWNSIDE: can become over-cluttered and illegible when they’re very data-dense. "
   ]
  },
  {
   "cell_type": "code",
   "execution_count": null,
   "metadata": {},
   "outputs": [],
   "source": [
    "%%html\n",
    "<div><img src=\"https://datavizcatalogue.com/methods/images/anatomy/SVG/parallel_coordinates.svg\" width=\"220\"/></div>"
   ]
  },
  {
   "cell_type": "markdown",
   "metadata": {},
   "source": [
    "### Plottting parallel coordinates\n",
    "Demo with pre-existing iris data. Don't worry about the data too much at this point. We will do additional practice exercises with parallel coordinates in future classes\n",
    "\n",
    "https://pandas.pydata.org/pandas-docs/stable/reference/api/pandas.plotting.parallel_coordinates.html"
   ]
  },
  {
   "cell_type": "code",
   "execution_count": null,
   "metadata": {},
   "outputs": [],
   "source": [
    "# libraries\n",
    "from pandas.plotting import parallel_coordinates\n",
    "\n",
    "# Take the iris dataset\n",
    "import seaborn as sns\n",
    "data = sns.load_dataset('iris')\n",
    "\n",
    "# Make the plot\n",
    "parallel_coordinates(data, 'species')\n",
    "plt.show()"
   ]
  },
  {
   "cell_type": "markdown",
   "metadata": {},
   "source": [
    "## Exercises\n",
    "part 2\n",
    "\n",
    "1. visualize average heights of males & females\n",
    "\n",
    "How you would do it programmatically?"
   ]
  },
  {
   "cell_type": "code",
   "execution_count": null,
   "metadata": {},
   "outputs": [],
   "source": []
  },
  {
   "cell_type": "markdown",
   "metadata": {},
   "source": [
    "## Exercise\n",
    "<span class=\"mark\">**TODO**</span>\n",
    "2. Visualize Heights, Born, Gender"
   ]
  },
  {
   "cell_type": "code",
   "execution_count": null,
   "metadata": {},
   "outputs": [],
   "source": [
    "# Exercise:  scatterplot with categorical colors for Gender?\n",
    "plot = s.plot.scatter(x='Born', y='Height')\n",
    "\n",
    "# several solutions possible..."
   ]
  },
  {
   "cell_type": "code",
   "execution_count": null,
   "metadata": {},
   "outputs": [],
   "source": [
    "# Your code"
   ]
  },
  {
   "cell_type": "markdown",
   "metadata": {},
   "source": [
    "# Exercise \n",
    "\n",
    "<span class=\"mark\">**TODO**</span>\n",
    "3. Compare height distributions of genders"
   ]
  },
  {
   "cell_type": "code",
   "execution_count": null,
   "metadata": {},
   "outputs": [],
   "source": [
    "# YOUR CODE BELOW"
   ]
  },
  {
   "cell_type": "markdown",
   "metadata": {},
   "source": [
    "## Few more viz examples\n",
    "\n",
    "### Load datasets, map into categorical variables"
   ]
  },
  {
   "cell_type": "code",
   "execution_count": null,
   "metadata": {},
   "outputs": [],
   "source": [
    "white_wine = pd.read_csv('data/winequality-white.csv', sep=';')\n",
    "red_wine = pd.read_csv('data/winequality-red.csv', sep=';')"
   ]
  },
  {
   "cell_type": "code",
   "execution_count": null,
   "metadata": {},
   "outputs": [],
   "source": [
    "white_wine.head()"
   ]
  },
  {
   "cell_type": "code",
   "execution_count": null,
   "metadata": {},
   "outputs": [],
   "source": [
    "# store wine type as an attribute\n",
    "red_wine['wine_type'] = 'red'   \n",
    "white_wine['wine_type'] = 'white'"
   ]
  },
  {
   "cell_type": "code",
   "execution_count": null,
   "metadata": {},
   "outputs": [],
   "source": [
    "white_wine.head()"
   ]
  },
  {
   "cell_type": "code",
   "execution_count": null,
   "metadata": {},
   "outputs": [],
   "source": [
    "# bucket wine quality scores into qualitative quality labels\n",
    "red_wine['quality_label'] = red_wine['quality'].apply(lambda value: 'low' \n",
    "                                                          if value <= 5 else 'medium' \n",
    "                                                              if value <= 7 else 'high')\n",
    "red_wine['quality_label'] = pd.Categorical(red_wine['quality_label'], \n",
    "                                           categories=['low', 'medium', 'high'])\n",
    "\n",
    "white_wine['quality_label'] = white_wine['quality'].apply(lambda value: 'low' \n",
    "                                                              if value <= 5 else 'medium' \n",
    "                                                                  if value <= 7 else 'high')\n",
    "white_wine['quality_label'] = pd.Categorical(white_wine['quality_label'], \n",
    "                                             categories=['low', 'medium', 'high'])"
   ]
  },
  {
   "cell_type": "code",
   "execution_count": null,
   "metadata": {},
   "outputs": [],
   "source": [
    "white_wine.head()"
   ]
  },
  {
   "cell_type": "code",
   "execution_count": null,
   "metadata": {},
   "outputs": [],
   "source": [
    "red_wine.head()"
   ]
  },
  {
   "cell_type": "code",
   "execution_count": null,
   "metadata": {},
   "outputs": [],
   "source": [
    "# merge red and white wine datasets\n",
    "wines = pd.concat([red_wine, white_wine])\n",
    "\n",
    "# re-shuffle records just to randomize data points\n",
    "wines = wines.sample(frac=1, random_state=42).reset_index(drop=True)"
   ]
  },
  {
   "cell_type": "code",
   "execution_count": null,
   "metadata": {},
   "outputs": [],
   "source": [
    "wines.head() #check data with & without re-shuffle"
   ]
  },
  {
   "cell_type": "markdown",
   "metadata": {},
   "source": [
    "**Now we are ready to visualize after all these data wrangling steps**"
   ]
  },
  {
   "cell_type": "markdown",
   "metadata": {},
   "source": [
    "## Visualizing two dimensions\n",
    "### with seaborn"
   ]
  },
  {
   "cell_type": "code",
   "execution_count": null,
   "metadata": {},
   "outputs": [],
   "source": [
    "f, ax = plt.subplots(figsize=(10, 6))\n",
    "corr = wines.corr()\n",
    "hm = sns.heatmap(round(corr,2), annot=True, ax=ax, cmap=\"coolwarm\",fmt='.2f',\n",
    "            linewidths=.05)\n",
    "f.subplots_adjust(top=0.93)\n",
    "t= f.suptitle('Wine Attributes Correlation Heatmap', fontsize=14)"
   ]
  },
  {
   "cell_type": "markdown",
   "metadata": {},
   "source": [
    "### without seaborn.\n",
    "\n",
    "Plot the values of a 2D matrix or array as color-coded image: [matplotlib.pyplot.matshow](https://matplotlib.org/api/_as_gen/matplotlib.axes.Axes.matshow.html#matplotlib.axes.Axes.matshow)"
   ]
  },
  {
   "cell_type": "code",
   "execution_count": null,
   "metadata": {},
   "outputs": [],
   "source": [
    "matrix = wines.corr()\n",
    "img = matplotlib.pyplot.matshow(matrix, \n",
    "    cmap=plt.cm.BrBG) #, vmin=-1, vmax=1)\n",
    "# looks pretty bad. No labels. Figure is too small. "
   ]
  },
  {
   "cell_type": "markdown",
   "metadata": {},
   "source": [
    "To know more about adding labels and ticks\n",
    "\n",
    "[tick-locators]( https://matplotlib.org/3.1.1/gallery/ticks_and_spines/tick-locators.html)\n",
    "\n",
    "[ticklabels](https://matplotlib.org/api/_as_gen/matplotlib.axes.Axes.set_xticklabels.html)\n",
    "\n",
    "<img src=\"https://matplotlib.org/3.1.1/_images/sphx_glr_tick-locators_001.png\" alt=\"Variables\" width=\"600\"/>\n",
    "\n",
    " * Colormaps: https://matplotlib.org/examples/color/colormaps_reference.html "
   ]
  },
  {
   "cell_type": "code",
   "execution_count": null,
   "metadata": {},
   "outputs": [],
   "source": [
    "matrix = wines.corr()\n",
    "img = plt.matshow(matrix, #vmin and vmax define the data range that the colormap covers.\n",
    "    cmap=plt.cm.BrBG, vmin=-1, vmax=1) #Diverging color map. \n",
    "img.figure.set_size_inches(10, 8, forward=True)\n",
    "img.axes.set_xticklabels(list(matrix.columns), rotation='vertical')\n",
    "img.axes.set_yticklabels(list(matrix.index), rotation='horizontal')\n",
    "img.axes.xaxis.set_major_locator(matplotlib.ticker.MultipleLocator(1)) #ticks\n",
    "img.axes.yaxis.set_major_locator(matplotlib.ticker.MultipleLocator(1))\n",
    "img.figure.colorbar(img) # adding the color bar at the end.\n",
    "Answer4 = img.axes #HW5, problem4. Make sure that Answer4 is an Axes or AxesSubplot instance \n",
    "Answer4"
   ]
  },
  {
   "cell_type": "markdown",
   "metadata": {},
   "source": [
    "There is a minor problem with the labels. **<span class=\"mark\">Can you spot the problem?</span>**\n",
    "\n",
    "**Anyone has a better way to fix this?**\n",
    "\n",
    "See my hackish approach below."
   ]
  },
  {
   "cell_type": "code",
   "execution_count": null,
   "metadata": {},
   "outputs": [],
   "source": [
    "# xticklabels indexes from -1\n",
    "img.axes.set_xticklabels(list(matrix.columns), rotation='vertical', ha='center')"
   ]
  },
  {
   "cell_type": "code",
   "execution_count": null,
   "metadata": {},
   "outputs": [],
   "source": [
    "pos = np.arange(len(matrix.columns))"
   ]
  },
  {
   "cell_type": "code",
   "execution_count": null,
   "metadata": {},
   "outputs": [],
   "source": [
    "x = list(matrix.columns)\n",
    "x = [''] + x\n",
    "x"
   ]
  },
  {
   "cell_type": "code",
   "execution_count": null,
   "metadata": {},
   "outputs": [],
   "source": [
    "img.axes.set_xticks(pos)\n",
    "img.axes.set_xticklabels(x, rotation='vertical')"
   ]
  },
  {
   "cell_type": "code",
   "execution_count": null,
   "metadata": {},
   "outputs": [],
   "source": [
    "# Now you can see \"fixed acidity\" in the legend.\n",
    "img = plt.matshow(matrix, \n",
    "    cmap=plt.cm.BrBG, vmin=-1, vmax=1)\n",
    "img.figure.set_size_inches(10, 8)\n",
    "img.axes.set_xticklabels(x, rotation='vertical')\n",
    "img.axes.set_yticklabels(x, rotation='horizontal')\n",
    "img.axes.xaxis.set_major_locator(matplotlib.ticker.MultipleLocator(1)) #ticks\n",
    "img.axes.yaxis.set_major_locator(matplotlib.ticker.MultipleLocator(1))\n",
    "img.figure.colorbar(img)"
   ]
  },
  {
   "cell_type": "code",
   "execution_count": null,
   "metadata": {},
   "outputs": [],
   "source": [
    "matrix.shape"
   ]
  },
  {
   "cell_type": "markdown",
   "metadata": {},
   "source": [
    "## Parallel Coordinates\n",
    "another example.\n",
    "Let's get back to our survey data"
   ]
  },
  {
   "cell_type": "code",
   "execution_count": null,
   "metadata": {},
   "outputs": [],
   "source": [
    "s = pd.read_csv(\"data/Survey-clean.csv\")"
   ]
  },
  {
   "cell_type": "code",
   "execution_count": null,
   "metadata": {},
   "outputs": [],
   "source": [
    "# normalizing to find z-scores of numeric data.\n",
    "norm = (s.iloc[:,5:] - s.mean()) / s.std()\n",
    "norm"
   ]
  },
  {
   "cell_type": "code",
   "execution_count": null,
   "metadata": {},
   "outputs": [],
   "source": [
    "# joining with major data\n",
    "norm.join(s.Major)"
   ]
  },
  {
   "cell_type": "code",
   "execution_count": null,
   "metadata": {},
   "outputs": [],
   "source": [
    "#sequential color map, Major is the legend\n",
    "plot = pd.plotting.parallel_coordinates(norm.join(s.Major), 'Major', \n",
    "                                      colormap=plt.cm.rainbow)\n",
    "plot.figure.set_size_inches(40, 10, forward=True)"
   ]
  },
  {
   "cell_type": "markdown",
   "metadata": {},
   "source": [
    "## Multidimensional visualization (more possibilities)\n",
    "\n",
    "part 3\n",
    "\n",
    " * boxplot\n",
    " * KDE\n",
    " * Scatterplot matrix"
   ]
  },
  {
   "cell_type": "code",
   "execution_count": null,
   "metadata": {},
   "outputs": [],
   "source": [
    "norm.plot.kde()"
   ]
  },
  {
   "cell_type": "code",
   "execution_count": null,
   "metadata": {},
   "outputs": [],
   "source": [
    "pd.plotting.boxplot(norm, rot=90, figsize=(10,5))"
   ]
  },
  {
   "cell_type": "code",
   "execution_count": null,
   "metadata": {},
   "outputs": [],
   "source": [
    "# Takes a while to run.\n",
    "plot = pd.plotting.scatter_matrix(s, figsize=(20,20))"
   ]
  },
  {
   "cell_type": "markdown",
   "metadata": {},
   "source": [
    "### Seaborn as an alternative\n",
    "\n",
    "Seaborn provides an API on top of Matplotlib  \n",
    "[searborn vs. matplotlib](https://jakevdp.github.io/PythonDataScienceHandbook/04.14-visualization-with-seaborn.html)\n",
    "\n",
    "#### Visualizing 3 dimensions\n",
    "\n",
    "Working with the wine data"
   ]
  },
  {
   "cell_type": "code",
   "execution_count": null,
   "metadata": {},
   "outputs": [],
   "source": [
    "# box plot to show distributions of alcohol %age vs. wine quality\n",
    "f, (ax) = plt.subplots(1, 1, figsize=(12, 4))\n",
    "f.suptitle('Wine Quality - Alcohol Content', fontsize=14)\n",
    "\n",
    "sns.boxplot(x=\"quality\", y=\"alcohol\", data=wines,  ax=ax)\n",
    "ax.set_xlabel(\"Wine Quality\",size = 12,alpha=0.8)\n",
    "ax.set_ylabel(\"Wine Alcohol %\",size = 12,alpha=0.8)"
   ]
  },
  {
   "cell_type": "code",
   "execution_count": null,
   "metadata": {},
   "outputs": [],
   "source": [
    "# violinplots\n",
    "f, (ax) = plt.subplots(1, 1, figsize=(12, 4))\n",
    "f.suptitle('Wine Quality - Sulphates Content', fontsize=14)\n",
    "\n",
    "sns.violinplot(x=\"quality\", y=\"sulphates\", data=wines,  ax=ax)\n",
    "ax.set_xlabel(\"Wine Quality\",size = 12,alpha=0.8)\n",
    "ax.set_ylabel(\"Wine Sulphates\",size = 12,alpha=0.8)"
   ]
  },
  {
   "cell_type": "code",
   "execution_count": null,
   "metadata": {},
   "outputs": [],
   "source": [
    "# utilizing both sides of a violin plot\n",
    "f, (ax1, ax2) = plt.subplots(1, 2, figsize=(14, 4))\n",
    "f.suptitle('Wine Type - Quality - Acidity', fontsize=14)\n",
    "\n",
    "sns.violinplot(x=\"quality\", y=\"volatile acidity\",\n",
    "               data=wines, inner=\"quart\", linewidth=1.3,ax=ax1)\n",
    "ax1.set_xlabel(\"Wine Quality\",size = 12,alpha=0.8)\n",
    "ax1.set_ylabel(\"Wine Volatile Acidity\",size = 12,alpha=0.8)\n",
    "\n",
    "sns.violinplot(x=\"quality\", y=\"volatile acidity\", hue=\"wine_type\", \n",
    "               data=wines, split=True, inner=\"quart\", linewidth=1.3,\n",
    "               palette={\"red\": \"#FF9999\", \"white\": \"white\"}, ax=ax2)\n",
    "ax2.set_xlabel(\"Wine Quality\",size = 12,alpha=0.8)\n",
    "ax2.set_ylabel(\"Wine Volatile Acidity\",size = 12,alpha=0.8)\n",
    "l = plt.legend(loc='upper right', title='Wine Type')"
   ]
  },
  {
   "cell_type": "markdown",
   "metadata": {},
   "source": [
    "<span class=\"mark\">TODO</span>: What are the marks and channels in this visualization?"
   ]
  },
  {
   "cell_type": "code",
   "execution_count": null,
   "metadata": {},
   "outputs": [],
   "source": [
    "# visualizing with box plots, showing quality labels and quality class\n",
    "f, (ax1, ax2) = plt.subplots(1, 2, figsize=(14, 4))\n",
    "f.suptitle('Wine Type - Quality - Alcohol Content', fontsize=14)\n",
    "\n",
    "sns.boxplot(x=\"quality\", y=\"alcohol\", hue=\"wine_type\",\n",
    "               data=wines, palette={\"red\": \"#FF9999\", \"white\": \"white\"}, ax=ax1)\n",
    "ax1.set_xlabel(\"Wine Quality\",size = 12,alpha=0.8)\n",
    "ax1.set_ylabel(\"Wine Alcohol %\",size = 12,alpha=0.8)\n",
    "\n",
    "sns.boxplot(x=\"quality_label\", y=\"alcohol\", hue=\"wine_type\",\n",
    "               data=wines, palette={\"red\": \"#FF9999\", \"white\": \"white\"}, ax=ax2)\n",
    "ax2.set_xlabel(\"Wine Quality Class\",size = 12,alpha=0.8)\n",
    "ax2.set_ylabel(\"Wine Alcohol %\",size = 12,alpha=0.8)\n",
    "l = plt.legend(loc='best', title='Wine Type')"
   ]
  },
  {
   "cell_type": "code",
   "execution_count": null,
   "metadata": {},
   "outputs": [],
   "source": [
    "# pairwise plots\n",
    "cols = ['density', 'residual sugar', 'total sulfur dioxide', 'fixed acidity', 'wine_type']\n",
    "pp = sns.pairplot(wines[cols], hue='wine_type', height=1.8, aspect=1.8, \n",
    "                  palette={\"red\": \"#FF9999\", \"white\": \"#FFE888\"},\n",
    "                  plot_kws=dict(edgecolor=\"black\", linewidth=0.5))\n",
    "fig = pp.fig \n",
    "fig.subplots_adjust(top=0.93, wspace=0.3)\n",
    "t = fig.suptitle('Wine Attributes Pairwise Plots', fontsize=14)"
   ]
  },
  {
   "cell_type": "markdown",
   "metadata": {},
   "source": [
    "### Common visualization mistakes: \n",
    "* Chart junk: \n",
    "    * Data ink ratio = data ink / total chart ink \n",
    "    * https://cdn-images-1.medium.com/max/2600/1*iQcNh732KTyKd6qROcebhg.png\n",
    "    \n",
    "    <img src=\"https://infovis-wiki.net/w/images/5/55/DIR.jpg\" alt=\"Variables\" width=\"600\"/>\n",
    "    \n",
    "* Y-axis: https://xkcd.com/2023/\n",
    "* https://flowingdata.com/2017/02/09/how-to-spot-visualization-lies/ \n",
    "    * Truncated bar axis\n",
    "    * 2D Size: Area vs width\n",
    "* Rainbow colormap for quantitative data https://en.wikipedia.org/wiki/Photoreceptor_cell#/media/File:1416_Color_Sensitivity.jpg"
   ]
  },
  {
   "cell_type": "code",
   "execution_count": null,
   "metadata": {},
   "outputs": [],
   "source": []
  }
 ],
 "metadata": {
  "kernelspec": {
   "display_name": "Python 3",
   "language": "python",
   "name": "python3"
  },
  "language_info": {
   "codemirror_mode": {
    "name": "ipython",
    "version": 3
   },
   "file_extension": ".py",
   "mimetype": "text/x-python",
   "name": "python",
   "nbconvert_exporter": "python",
   "pygments_lexer": "ipython3",
   "version": "3.7.10"
  }
 },
 "nbformat": 4,
 "nbformat_minor": 4
}
