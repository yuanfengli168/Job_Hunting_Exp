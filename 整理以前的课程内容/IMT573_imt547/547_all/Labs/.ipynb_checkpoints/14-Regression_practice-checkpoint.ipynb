{
 "cells": [
  {
   "cell_type": "markdown",
   "metadata": {},
   "source": [
    "# Understanding Relations between Variables"
   ]
  },
  {
   "cell_type": "code",
   "execution_count": 48,
   "metadata": {},
   "outputs": [],
   "source": [
    "import pandas as pd\n",
    "import seaborn as sns # Import seaborn and matplotlib for visualizing\n",
    "import matplotlib.pyplot as plt\n",
    "import numpy as np"
   ]
  },
  {
   "cell_type": "markdown",
   "metadata": {},
   "source": [
    "## Visualizing variables\n",
    "\n",
    "Before you can run any statistical models, it's usually a good idea to visualize your dataset. \n",
    "\n",
    "Let's first start with the tips dataset that you can find in the seaborn package"
   ]
  },
  {
   "cell_type": "code",
   "execution_count": 3,
   "metadata": {},
   "outputs": [
    {
     "data": {
      "image/png": "[encoded data removed]",
      "text/plain": [
       "<Figure size 432x288 with 1 Axes>"
      ]
     },
     "metadata": {
      "needs_background": "light"
     },
     "output_type": "display_data"
    }
   ],
   "source": [
    "tipdata = sns.load_dataset('tips')\n",
    "sns.scatterplot(x=\"total_bill\", y=\"tip\", \n",
    "                data=tipdata)\n",
    "\n",
    "plt.show() "
   ]
  },
  {
   "cell_type": "code",
   "execution_count": 27,
   "metadata": {},
   "outputs": [
    {
     "data": {
      "text/html": [
       "<div>\n",
       "<style scoped>\n",
       "    .dataframe tbody tr th:only-of-type {\n",
       "        vertical-align: middle;\n",
       "    }\n",
       "\n",
       "    .dataframe tbody tr th {\n",
       "        vertical-align: top;\n",
       "    }\n",
       "\n",
       "    .dataframe thead th {\n",
       "        text-align: right;\n",
       "    }\n",
       "</style>\n",
       "<table border=\"1\" class=\"dataframe\">\n",
       "  <thead>\n",
       "    <tr style=\"text-align: right;\">\n",
       "      <th></th>\n",
       "      <th>total_bill</th>\n",
       "      <th>tip</th>\n",
       "      <th>sex</th>\n",
       "      <th>smoker</th>\n",
       "      <th>day</th>\n",
       "      <th>time</th>\n",
       "      <th>size</th>\n",
       "    </tr>\n",
       "  </thead>\n",
       "  <tbody>\n",
       "    <tr>\n",
       "      <th>0</th>\n",
       "      <td>16.99</td>\n",
       "      <td>1.01</td>\n",
       "      <td>Female</td>\n",
       "      <td>No</td>\n",
       "      <td>Sun</td>\n",
       "      <td>Dinner</td>\n",
       "      <td>2</td>\n",
       "    </tr>\n",
       "    <tr>\n",
       "      <th>1</th>\n",
       "      <td>10.34</td>\n",
       "      <td>1.66</td>\n",
       "      <td>Male</td>\n",
       "      <td>No</td>\n",
       "      <td>Sun</td>\n",
       "      <td>Dinner</td>\n",
       "      <td>3</td>\n",
       "    </tr>\n",
       "    <tr>\n",
       "      <th>2</th>\n",
       "      <td>21.01</td>\n",
       "      <td>3.50</td>\n",
       "      <td>Male</td>\n",
       "      <td>No</td>\n",
       "      <td>Sun</td>\n",
       "      <td>Dinner</td>\n",
       "      <td>3</td>\n",
       "    </tr>\n",
       "    <tr>\n",
       "      <th>3</th>\n",
       "      <td>23.68</td>\n",
       "      <td>3.31</td>\n",
       "      <td>Male</td>\n",
       "      <td>No</td>\n",
       "      <td>Sun</td>\n",
       "      <td>Dinner</td>\n",
       "      <td>2</td>\n",
       "    </tr>\n",
       "    <tr>\n",
       "      <th>4</th>\n",
       "      <td>24.59</td>\n",
       "      <td>3.61</td>\n",
       "      <td>Female</td>\n",
       "      <td>No</td>\n",
       "      <td>Sun</td>\n",
       "      <td>Dinner</td>\n",
       "      <td>4</td>\n",
       "    </tr>\n",
       "  </tbody>\n",
       "</table>\n",
       "</div>"
      ],
      "text/plain": [
       "   total_bill   tip     sex smoker  day    time  size\n",
       "0       16.99  1.01  Female     No  Sun  Dinner     2\n",
       "1       10.34  1.66    Male     No  Sun  Dinner     3\n",
       "2       21.01  3.50    Male     No  Sun  Dinner     3\n",
       "3       23.68  3.31    Male     No  Sun  Dinner     2\n",
       "4       24.59  3.61  Female     No  Sun  Dinner     4"
      ]
     },
     "execution_count": 27,
     "metadata": {},
     "output_type": "execute_result"
    }
   ],
   "source": [
    "tipdata.head()"
   ]
  },
  {
   "cell_type": "markdown",
   "metadata": {},
   "source": [
    "### Drawing trend line\n",
    "Now, let's draw a trend line calculated using linear regression. \n",
    "\n",
    "You can use seaborn's `regplot` for this: https://seaborn.pydata.org/generated/seaborn.regplot.html"
   ]
  },
  {
   "cell_type": "code",
   "execution_count": 6,
   "metadata": {},
   "outputs": [
    {
     "data": {
      "image/png": "[encoded data removed]",
      "text/plain": [
       "<Figure size 432x288 with 1 Axes>"
      ]
     },
     "metadata": {
      "needs_background": "light"
     },
     "output_type": "display_data"
    }
   ],
   "source": [
    "sns.regplot(x=\"total_bill\", y=\"tip\", \n",
    "            data=tipdata)\n",
    "# Show the plot\n",
    "plt.show()"
   ]
  },
  {
   "cell_type": "markdown",
   "metadata": {},
   "source": [
    "#### Visualizing some more variables\n",
    "\n",
    "Here, you'll look at the relationship between house price per area and the number of nearby convenience stores using the Taiwan real estate dataset.\n",
    "\n",
    "One challenge in this dataset is that the number of convenience stores contains integer data, causing points to overlap. To solve this, you will make the points transparent."
   ]
  },
  {
   "cell_type": "code",
   "execution_count": 13,
   "metadata": {},
   "outputs": [],
   "source": [
    "# let's load the data as a pandas dataframe\n",
    "taiwan_real_estate = pd.read_csv('data/taiwan_real_estate2.csv')"
   ]
  },
  {
   "cell_type": "markdown",
   "metadata": {},
   "source": [
    "**TODO**: Your task is to first visualize the two numeric variables before starting to model anything\n",
    "\n",
    "Using taiwan_real_estate, draw a scatter plot of `price_twd_msq` (y-axis) versus `n_convenience` (x-axis).\n",
    "\n",
    "Checkout seaborn's `scatterplot`: https://seaborn.pydata.org/generated/seaborn.scatterplot.html"
   ]
  },
  {
   "cell_type": "code",
   "execution_count": null,
   "metadata": {},
   "outputs": [],
   "source": [
    "# Your code below. Fill it in\n",
    "# Draw the scatter plot\n",
    "sns.____(____)\n",
    "\n",
    "# Show the plot\n",
    "plt.____()"
   ]
  },
  {
   "cell_type": "code",
   "execution_count": 7,
   "metadata": {},
   "outputs": [
    {
     "data": {
      "image/png": "[encoded data removed]",
      "text/plain": [
       "<Figure size 432x288 with 1 Axes>"
      ]
     },
     "metadata": {
      "needs_background": "light"
     },
     "output_type": "display_data"
    }
   ],
   "source": [
    "# Your code below. Filled in\n",
    "# Draw the scatter plot\n",
    "sns.scatterplot(x=\"n_convenience\",\n",
    "                y=\"price_twd_msq\",\n",
    "                data=taiwan_real_estate)\n",
    "\n",
    "# Plot it\n",
    "plt.show()"
   ]
  },
  {
   "cell_type": "markdown",
   "metadata": {},
   "source": [
    "### Drawing trend line\n",
    "Now, let's draw a trend line calculated using linear regression. \n",
    "\n",
    "You can use seaborn's `regplot` for this: https://seaborn.pydata.org/generated/seaborn.regplot.html"
   ]
  },
  {
   "cell_type": "code",
   "execution_count": 9,
   "metadata": {
    "scrolled": true
   },
   "outputs": [
    {
     "data": {
      "image/png": "[encoded data removed]",
      "text/plain": [
       "<Figure size 432x288 with 1 Axes>"
      ]
     },
     "metadata": {
      "needs_background": "light"
     },
     "output_type": "display_data"
    }
   ],
   "source": [
    "# Draw a trend line on the scatter plot of price_twd_msq vs. n_convenience \n",
    "sns.regplot(x=\"n_convenience\",\n",
    "            y=\"price_twd_msq\",\n",
    "            data=taiwan_real_estate,\n",
    "            ci=None, #omitting confidence interval here\n",
    "            scatter_kws={'alpha': 0.5}) #The scatter_kws argument makes the data points 50% transparent.\n",
    "\n",
    "# Show the plot\n",
    "plt.show()"
   ]
  },
  {
   "cell_type": "markdown",
   "metadata": {},
   "source": [
    "<span class=\"girk\">Lab part 2</span>"
   ]
  },
  {
   "cell_type": "markdown",
   "metadata": {},
   "source": [
    "### Linear regression with statsmodel\n",
    "\n",
    "While `sns.regplot()` can display a linear regression trend line, it doesn't give you access to the intercept and slope as variables, or allow you to work with the model results as variables.\n",
    "\n",
    "Let's use statsmodel to run your regression model.\n",
    "\n",
    "Read statsmodel documentation for linear regression:\n",
    "* https://www.statsmodels.org/stable/index.html\n",
    "* https://www.statsmodels.org/stable/regression.html\n",
    "\n",
    "**STEPS**\n",
    "* Import the `ols()` function from the statsmodels.formula.api package.\n",
    "* Run a linear regression with price_twd_msq as the response variable, n_convenience as the explanatory variable, and taiwan_real_estate as the dataset. Name it mdl_price_vs_conv.\n",
    "* Fit the model.\n",
    "* Print the parameters of the fitted model."
   ]
  },
  {
   "cell_type": "code",
   "execution_count": 14,
   "metadata": {},
   "outputs": [
    {
     "name": "stdout",
     "output_type": "stream",
     "text": [
      "Intercept        8.224237\n",
      "n_convenience    0.798080\n",
      "dtype: float64\n"
     ]
    }
   ],
   "source": [
    "# Import the ols function\n",
    "from statsmodels.formula.api import ols\n",
    "\n",
    "# Create the model object\n",
    "mdl_price_vs_conv = ols(\"price_twd_msq ~ n_convenience\", data=taiwan_real_estate)\n",
    "\n",
    "# Fit the model\n",
    "mdl_price_vs_conv = mdl_price_vs_conv.fit()\n",
    "\n",
    "# Extract and Print the parameters of the fitted model\n",
    "print(mdl_price_vs_conv.params)"
   ]
  },
  {
   "cell_type": "markdown",
   "metadata": {},
   "source": [
    "#### Interpreting the intercept\n",
    "\n",
    "The model had an Intercept coefficient of 8.2242. What does this mean?\n",
    "\n",
    "Possible Answers\n",
    "\n",
    "* a). On average, houses had a price of 8.2242 TWD per square meter.\n",
    "* b). On average, a house with zero convenience stores nearby had a price of 8.2242 TWD per square meter.\n",
    "* c). The minimum house price was 8.2242 TWD per square meter.\n",
    "* d). The minimum house price with zero convenience stores nearby was 8.2242 TWD per square meter.\n",
    "* e). The intercept tells you nothing about house prices.\n"
   ]
  },
  {
   "cell_type": "markdown",
   "metadata": {},
   "source": [
    "**Your response below**\n",
    "\n",
    "Correct response: (b).\n"
   ]
  },
  {
   "cell_type": "markdown",
   "metadata": {},
   "source": [
    "#### Interpreting the slope\n",
    "\n",
    "The model had an n_convenience coefficient of 0.7981. What does this mean?\n",
    "\n",
    "Possible Answers\n",
    "\n",
    "* a). If you increase the number of nearby convenience stores by one, then the expected increase in house price is 0.7981 TWD per square meter.\n",
    "* b). If you increase the house price by 0.7981 TWD per square meter, then the expected increase in the number of nearby convenience stores is one.\n",
    "* c). If you increase the number of nearby convenience stores by 0.7981, then the expected increase in house price is one TWD per square meter.\n",
    "* d). If you increase the house price by one TWD per square meter, then the expected increase in the number of nearby convenience stores is 0.7981.\n",
    "* e). The n_convenience coefficient tells you nothing about house prices.\n"
   ]
  },
  {
   "cell_type": "markdown",
   "metadata": {},
   "source": [
    "**Your response below**\n",
    "\n",
    "Correct response: (a)."
   ]
  },
  {
   "cell_type": "markdown",
   "metadata": {},
   "source": [
    "<span class=\"girk\">Lab part 3</span>"
   ]
  },
  {
   "cell_type": "markdown",
   "metadata": {},
   "source": [
    "## Working with model object\n",
    "\n",
    "**fittedvalues** attributes: predictions on the original dataset "
   ]
  },
  {
   "cell_type": "code",
   "execution_count": 15,
   "metadata": {
    "scrolled": true
   },
   "outputs": [
    {
     "name": "stdout",
     "output_type": "stream",
     "text": [
      "0      16.205035\n",
      "1      15.406955\n",
      "2      12.214636\n",
      "3      12.214636\n",
      "4      12.214636\n",
      "         ...    \n",
      "409     8.224237\n",
      "410    15.406955\n",
      "411    13.810795\n",
      "412    12.214636\n",
      "413    15.406955\n",
      "Length: 414, dtype: float64\n"
     ]
    }
   ],
   "source": [
    "print(mdl_price_vs_conv.fittedvalues)"
   ]
  },
  {
   "cell_type": "code",
   "execution_count": 23,
   "metadata": {},
   "outputs": [
    {
     "data": {
      "text/plain": [
       "(414, 4)"
      ]
     },
     "execution_count": 23,
     "metadata": {},
     "output_type": "execute_result"
    }
   ],
   "source": [
    "taiwan_real_estate.shape"
   ]
  },
  {
   "cell_type": "code",
   "execution_count": 18,
   "metadata": {},
   "outputs": [
    {
     "name": "stdout",
     "output_type": "stream",
     "text": [
      "0      16.205035\n",
      "1      15.406955\n",
      "2      12.214636\n",
      "3      12.214636\n",
      "4      12.214636\n",
      "         ...    \n",
      "409     8.224237\n",
      "410    15.406955\n",
      "411    13.810795\n",
      "412    12.214636\n",
      "413    15.406955\n",
      "Length: 414, dtype: float64\n"
     ]
    }
   ],
   "source": [
    "explanatory_data = taiwan_real_estate[\"n_convenience\"]\n",
    "print(mdl_price_vs_conv.predict(explanatory_data))"
   ]
  },
  {
   "cell_type": "markdown",
   "metadata": {},
   "source": [
    "#### Residuals\n",
    "actual response value - predicted response values."
   ]
  },
  {
   "cell_type": "code",
   "execution_count": 24,
   "metadata": {},
   "outputs": [
    {
     "name": "stdout",
     "output_type": "stream",
     "text": [
      "0     -4.737561\n",
      "1     -2.638422\n",
      "2      2.097013\n",
      "3      4.366302\n",
      "4      0.826211\n",
      "         ...   \n",
      "409   -3.564631\n",
      "410   -0.278362\n",
      "411   -1.526378\n",
      "412    3.670387\n",
      "413    3.927387\n",
      "Length: 414, dtype: float64\n"
     ]
    }
   ],
   "source": [
    "print(mdl_price_vs_conv.resid)"
   ]
  },
  {
   "cell_type": "code",
   "execution_count": 16,
   "metadata": {},
   "outputs": [
    {
     "name": "stdout",
     "output_type": "stream",
     "text": [
      "                            OLS Regression Results                            \n",
      "==============================================================================\n",
      "Dep. Variable:          price_twd_msq   R-squared:                       0.326\n",
      "Model:                            OLS   Adj. R-squared:                  0.324\n",
      "Method:                 Least Squares   F-statistic:                     199.3\n",
      "Date:                Mon, 15 Feb 2021   Prob (F-statistic):           3.41e-37\n",
      "Time:                        23:43:12   Log-Likelihood:                -1091.1\n",
      "No. Observations:                 414   AIC:                             2186.\n",
      "Df Residuals:                     412   BIC:                             2194.\n",
      "Df Model:                           1                                         \n",
      "Covariance Type:            nonrobust                                         \n",
      "=================================================================================\n",
      "                    coef    std err          t      P>|t|      [0.025      0.975]\n",
      "---------------------------------------------------------------------------------\n",
      "Intercept         8.2242      0.285     28.857      0.000       7.664       8.784\n",
      "n_convenience     0.7981      0.057     14.118      0.000       0.687       0.909\n",
      "==============================================================================\n",
      "Omnibus:                      171.927   Durbin-Watson:                   1.993\n",
      "Prob(Omnibus):                  0.000   Jarque-Bera (JB):             1417.242\n",
      "Skew:                           1.553   Prob(JB):                    1.78e-308\n",
      "Kurtosis:                      11.516   Cond. No.                         8.87\n",
      "==============================================================================\n",
      "\n",
      "Warnings:\n",
      "[1] Standard Errors assume that the covariance matrix of the errors is correctly specified.\n"
     ]
    }
   ],
   "source": [
    "# Inspect the results\n",
    "print(mdl_price_vs_conv.summary())"
   ]
  },
  {
   "cell_type": "markdown",
   "metadata": {},
   "source": [
    "### Predicting\n",
    "\n",
    "You can manually calculate the predictions from the model coefficients. When making predictions in real life, it is better to use `.predict()`, but doing this manually is helpful to reassure yourself that predictions aren't magic - they are simply arithmetic.\n",
    "\n",
    "the predicted value is just the intercept plus the slope times the explanatory variable.\n",
    "\n",
    "response = intercept + slope * explanatory"
   ]
  },
  {
   "cell_type": "markdown",
   "metadata": {},
   "source": [
    "**TODO**\n",
    "* Get the coefficients of mdl_price_vs_conv, assigning to coeffs.\n",
    "* Get the intercept, which is the first element of coeffs, assigning to intercept.\n",
    "* Get the slope, which is the second element of coeffs, assigning to slope.\n",
    "* Manually predict price_twd_msq using the intercept, slope, and explanatory_data.\n",
    "* Run the code to compare your manually calculated predictions to the results from .predict().\n",
    "\n",
    "**Fill in the code below**"
   ]
  },
  {
   "cell_type": "code",
   "execution_count": null,
   "metadata": {},
   "outputs": [],
   "source": [
    "## Your code below\n",
    "# Get the coefficients of mdl_price_vs_conv\n",
    "coeffs = ____\n",
    "\n",
    "# Get the intercept\n",
    "intercept = ____\n",
    "\n",
    "# Get the slope\n",
    "slope = ____\n",
    "\n",
    "# Manually calculate the predictions\n",
    "price_twd_msq = ____\n",
    "print(price_twd_msq)\n",
    "\n",
    "# Compare to the results from .predict()\n",
    "predictions_auto=mdl_price_vs_conv.predict(explanatory_data)\n",
    "print(predictions_auto)"
   ]
  },
  {
   "cell_type": "code",
   "execution_count": 44,
   "metadata": {},
   "outputs": [
    {
     "name": "stdout",
     "output_type": "stream",
     "text": [
      "0      16.205035\n",
      "1      15.406955\n",
      "2      12.214636\n",
      "3      12.214636\n",
      "4      12.214636\n",
      "         ...    \n",
      "409     8.224237\n",
      "410    15.406955\n",
      "411    13.810795\n",
      "412    12.214636\n",
      "413    15.406955\n",
      "Name: n_convenience, Length: 414, dtype: float64\n",
      "0      16.205035\n",
      "1      15.406955\n",
      "2      12.214636\n",
      "3      12.214636\n",
      "4      12.214636\n",
      "         ...    \n",
      "409     8.224237\n",
      "410    15.406955\n",
      "411    13.810795\n",
      "412    12.214636\n",
      "413    15.406955\n",
      "Length: 414, dtype: float64\n"
     ]
    }
   ],
   "source": [
    "# Solution\n",
    "# Get the coefficients of mdl_price_vs_conv\n",
    "coeffs = mdl_price_vs_conv.params\n",
    "\n",
    "# Get the intercept\n",
    "intercept = coeffs[0]\n",
    "\n",
    "# Get the slope\n",
    "slope = coeffs[1]\n",
    "\n",
    "# Manually calculate the predictions\n",
    "price_twd_msq = intercept + slope * explanatory_data\n",
    "print(price_twd_msq)\n",
    "\n",
    "# Compare to the results from .predict()\n",
    "predictions_auto=mdl_price_vs_conv.predict(explanatory_data)\n",
    "print(predictions_auto)"
   ]
  },
  {
   "cell_type": "code",
   "execution_count": 35,
   "metadata": {},
   "outputs": [
    {
     "data": {
      "text/plain": [
       "0      16.205035\n",
       "1      15.406955\n",
       "2      12.214636\n",
       "3      12.214636\n",
       "4      12.214636\n",
       "         ...    \n",
       "409     8.224237\n",
       "410    15.406955\n",
       "411    13.810795\n",
       "412    12.214636\n",
       "413    15.406955\n",
       "Length: 414, dtype: float64"
      ]
     },
     "execution_count": 35,
     "metadata": {},
     "output_type": "execute_result"
    }
   ],
   "source": [
    "predictions_auto"
   ]
  },
  {
   "cell_type": "code",
   "execution_count": 43,
   "metadata": {},
   "outputs": [
    {
     "data": {
      "text/plain": [
       "0     16.205\n",
       "1     15.407\n",
       "2    12.2146\n",
       "3    12.2146\n",
       "4    12.2146\n",
       "Name: n_convenience, dtype: object"
      ]
     },
     "execution_count": 43,
     "metadata": {},
     "output_type": "execute_result"
    }
   ],
   "source": [
    "price_twd_msq.head()"
   ]
  },
  {
   "cell_type": "markdown",
   "metadata": {},
   "source": [
    "### Model fit"
   ]
  },
  {
   "cell_type": "code",
   "execution_count": 45,
   "metadata": {
    "scrolled": true
   },
   "outputs": [
    {
     "name": "stdout",
     "output_type": "stream",
     "text": [
      "                            OLS Regression Results                            \n",
      "==============================================================================\n",
      "Dep. Variable:          price_twd_msq   R-squared:                       0.326\n",
      "Model:                            OLS   Adj. R-squared:                  0.324\n",
      "Method:                 Least Squares   F-statistic:                     199.3\n",
      "Date:                Tue, 16 Feb 2021   Prob (F-statistic):           3.41e-37\n",
      "Time:                        07:29:26   Log-Likelihood:                -1091.1\n",
      "No. Observations:                 414   AIC:                             2186.\n",
      "Df Residuals:                     412   BIC:                             2194.\n",
      "Df Model:                           1                                         \n",
      "Covariance Type:            nonrobust                                         \n",
      "=================================================================================\n",
      "                    coef    std err          t      P>|t|      [0.025      0.975]\n",
      "---------------------------------------------------------------------------------\n",
      "Intercept         8.2242      0.285     28.857      0.000       7.664       8.784\n",
      "n_convenience     0.7981      0.057     14.118      0.000       0.687       0.909\n",
      "==============================================================================\n",
      "Omnibus:                      171.927   Durbin-Watson:                   1.993\n",
      "Prob(Omnibus):                  0.000   Jarque-Bera (JB):             1417.242\n",
      "Skew:                           1.553   Prob(JB):                    1.78e-308\n",
      "Kurtosis:                      11.516   Cond. No.                         8.87\n",
      "==============================================================================\n",
      "\n",
      "Warnings:\n",
      "[1] Standard Errors assume that the covariance matrix of the errors is correctly specified.\n"
     ]
    }
   ],
   "source": [
    "# summary of the model\n",
    "print(mdl_price_vs_conv.summary())"
   ]
  },
  {
   "cell_type": "markdown",
   "metadata": {},
   "source": [
    "**Finding the coefficient of determination**"
   ]
  },
  {
   "cell_type": "code",
   "execution_count": 50,
   "metadata": {},
   "outputs": [
    {
     "name": "stdout",
     "output_type": "stream",
     "text": [
      "0.32604660851305045\n"
     ]
    }
   ],
   "source": [
    "# r-squared attribute\n",
    "print(mdl_price_vs_conv.rsquared)"
   ]
  },
  {
   "cell_type": "markdown",
   "metadata": {},
   "source": [
    "**Finding the Residual standard error**"
   ]
  },
  {
   "cell_type": "code",
   "execution_count": 49,
   "metadata": {},
   "outputs": [
    {
     "name": "stdout",
     "output_type": "stream",
     "text": [
      "3.383887521343046\n"
     ]
    }
   ],
   "source": [
    "# calculating the RSE\n",
    "\n",
    "#first extract the mse and then take square root.\n",
    "mse = mdl_price_vs_conv.mse_resid\n",
    "\n",
    "rse = np.sqrt(mse)\n",
    "print(rse) #rse has the same unit as the response variable."
   ]
  },
  {
   "cell_type": "markdown",
   "metadata": {},
   "source": [
    "# Exercise\n",
    "\n",
    "Practice with Reddit data. The first two bullets are solved for you\n",
    "\n",
    "* Load the reddit data you had used in a previous lab 'reddit_2007_author.csv'\n",
    "* Inspect the data \n",
    "* come up with a research question that you can answer with regression modeling. E.g.: predicting num_subs based on karma. *Hint: check the columns of the data-frame to see what all is available and what could be serve as a good question*\n",
    "* Build a linear regression model with a choice of a response variable and explanatory variables to answer your question."
   ]
  },
  {
   "cell_type": "code",
   "execution_count": 52,
   "metadata": {},
   "outputs": [],
   "source": [
    "df = pd.read_csv(\"data/reddit_2007_author.csv\", header=0)"
   ]
  },
  {
   "cell_type": "code",
   "execution_count": 53,
   "metadata": {},
   "outputs": [
    {
     "data": {
      "text/html": [
       "<div>\n",
       "<style scoped>\n",
       "    .dataframe tbody tr th:only-of-type {\n",
       "        vertical-align: middle;\n",
       "    }\n",
       "\n",
       "    .dataframe tbody tr th {\n",
       "        vertical-align: top;\n",
       "    }\n",
       "\n",
       "    .dataframe thead th {\n",
       "        text-align: right;\n",
       "    }\n",
       "</style>\n",
       "<table border=\"1\" class=\"dataframe\">\n",
       "  <thead>\n",
       "    <tr style=\"text-align: right;\">\n",
       "      <th></th>\n",
       "      <th>author</th>\n",
       "      <th>num_comments</th>\n",
       "      <th>num_subs</th>\n",
       "      <th>karma</th>\n",
       "      <th>controv</th>\n",
       "      <th>gild</th>\n",
       "      <th>verbosity</th>\n",
       "    </tr>\n",
       "  </thead>\n",
       "  <tbody>\n",
       "    <tr>\n",
       "      <th>0</th>\n",
       "      <td>stesch</td>\n",
       "      <td>1192</td>\n",
       "      <td>9</td>\n",
       "      <td>4225</td>\n",
       "      <td>95</td>\n",
       "      <td>0</td>\n",
       "      <td>100.811242</td>\n",
       "    </tr>\n",
       "    <tr>\n",
       "      <th>1</th>\n",
       "      <td>timoleon</td>\n",
       "      <td>343</td>\n",
       "      <td>5</td>\n",
       "      <td>1095</td>\n",
       "      <td>18</td>\n",
       "      <td>0</td>\n",
       "      <td>379.903790</td>\n",
       "    </tr>\n",
       "    <tr>\n",
       "      <th>2</th>\n",
       "      <td>jan</td>\n",
       "      <td>43</td>\n",
       "      <td>3</td>\n",
       "      <td>85</td>\n",
       "      <td>0</td>\n",
       "      <td>0</td>\n",
       "      <td>121.046512</td>\n",
       "    </tr>\n",
       "    <tr>\n",
       "      <th>3</th>\n",
       "      <td>RetroRock</td>\n",
       "      <td>138</td>\n",
       "      <td>5</td>\n",
       "      <td>662</td>\n",
       "      <td>2</td>\n",
       "      <td>0</td>\n",
       "      <td>108.289855</td>\n",
       "    </tr>\n",
       "    <tr>\n",
       "      <th>4</th>\n",
       "      <td>joelthelion</td>\n",
       "      <td>858</td>\n",
       "      <td>6</td>\n",
       "      <td>2803</td>\n",
       "      <td>49</td>\n",
       "      <td>0</td>\n",
       "      <td>182.831002</td>\n",
       "    </tr>\n",
       "  </tbody>\n",
       "</table>\n",
       "</div>"
      ],
      "text/plain": [
       "        author  num_comments  num_subs  karma  controv  gild   verbosity\n",
       "0       stesch          1192         9   4225       95     0  100.811242\n",
       "1     timoleon           343         5   1095       18     0  379.903790\n",
       "2          jan            43         3     85        0     0  121.046512\n",
       "3    RetroRock           138         5    662        2     0  108.289855\n",
       "4  joelthelion           858         6   2803       49     0  182.831002"
      ]
     },
     "execution_count": 53,
     "metadata": {},
     "output_type": "execute_result"
    }
   ],
   "source": [
    "df.head()"
   ]
  },
  {
   "cell_type": "code",
   "execution_count": null,
   "metadata": {},
   "outputs": [],
   "source": []
  }
 ],
 "metadata": {
  "kernelspec": {
   "display_name": "Python 3",
   "language": "python",
   "name": "python3"
  },
  "language_info": {
   "codemirror_mode": {
    "name": "ipython",
    "version": 3
   },
   "file_extension": ".py",
   "mimetype": "text/x-python",
   "name": "python",
   "nbconvert_exporter": "python",
   "pygments_lexer": "ipython3",
   "version": "3.7.10"
  }
 },
 "nbformat": 4,
 "nbformat_minor": 4
}
