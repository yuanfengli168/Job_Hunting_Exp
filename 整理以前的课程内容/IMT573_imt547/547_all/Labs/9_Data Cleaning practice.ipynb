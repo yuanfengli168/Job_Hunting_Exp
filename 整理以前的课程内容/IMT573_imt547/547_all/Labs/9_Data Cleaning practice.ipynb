{
 "cells": [
  {
   "cell_type": "code",
   "execution_count": null,
   "metadata": {},
   "outputs": [],
   "source": [
    "import pandas as pd\n",
    "import numpy as np\n",
    "import seaborn as sb #let's also try the seaborn library in this lab"
   ]
  },
  {
   "cell_type": "markdown",
   "metadata": {},
   "source": [
    "### Imputation"
   ]
  },
  {
   "cell_type": "code",
   "execution_count": null,
   "metadata": {},
   "outputs": [],
   "source": [
    "df = pd.read_csv(\"data/Counties2010.csv\")\n",
    "df.head()"
   ]
  },
  {
   "cell_type": "code",
   "execution_count": null,
   "metadata": {},
   "outputs": [],
   "source": [
    "df[df.IncomePerCapita == 0]"
   ]
  },
  {
   "cell_type": "markdown",
   "metadata": {},
   "source": [
    "#### We find several 0 values in the dataset. Let's treat these as missing values."
   ]
  },
  {
   "cell_type": "code",
   "execution_count": null,
   "metadata": {},
   "outputs": [],
   "source": [
    "nullvals = df.IncomePerCapita.replace(0, np.NaN)\n",
    "nullvals"
   ]
  },
  {
   "cell_type": "code",
   "execution_count": null,
   "metadata": {},
   "outputs": [],
   "source": [
    "df[nullvals.isna()]  ##Find NaN"
   ]
  },
  {
   "cell_type": "markdown",
   "metadata": {},
   "source": [
    "#### Let's count them"
   ]
  },
  {
   "cell_type": "code",
   "execution_count": null,
   "metadata": {},
   "outputs": [],
   "source": [
    "print(np.count_nonzero(df[nullvals.isna()]))"
   ]
  },
  {
   "cell_type": "code",
   "execution_count": null,
   "metadata": {},
   "outputs": [],
   "source": []
  },
  {
   "cell_type": "markdown",
   "metadata": {},
   "source": [
    "# data cleaning + EDA"
   ]
  },
  {
   "cell_type": "markdown",
   "metadata": {},
   "source": [
    "We will use [passenger traffic reports](https://www.flydenver.com/about/financials/passenger_traffic) from the Denver International Airport.\n",
    "\n",
    "The goal is to turn this structured but very untidy and irregular data into something we can simply visualize and reshape.\n",
    "\n",
    "Following libraries that will come in handy (read the docs):\n",
    "* pandas [Reshaping and Pivot Tables](https://pandas.pydata.org/pandas-docs/stable/user_guide/reshaping.html)\n",
    "* seaborn [`lineplot`](https://seaborn.pydata.org/generated/seaborn.lineplot.html)"
   ]
  },
  {
   "cell_type": "markdown",
   "metadata": {},
   "source": [
    "EDA checklist:\n",
    "\n",
    "1. **Formulate your question** → see “Characteristics of a good question”\n",
    "2. **Read in your data** → Is it properly formatted? Perform cleanup activities\n",
    "3. **Check the packaging** → Make sure there are the right number of rows & columns, formats, etc.\n",
    "4. **Look at the top and bottom of data** → Confirm that all observations are there\n",
    "5. **Check the “n”s** → Identify “landmark” values and to check expectations (number of states, etc.)\n",
    "6. **Validate against an external data source** → Right order of magnitude, expected distribution, etc.\n",
    "7. **Make a plot** → Checking and creating expectations about the shape of data and appropriate analyses\n",
    "8. **Try an easy solution** → What is the simplest test for your question?"
   ]
  },
  {
   "cell_type": "markdown",
   "metadata": {},
   "source": [
    "### Formulate your question\n",
    "How have ridership patterns at DIA changed across airlines over time?\n",
    "\n",
    "### Read in data\n",
    "Use pandas's `read_csv` function to read in \"den_passengers.csv\""
   ]
  },
  {
   "cell_type": "code",
   "execution_count": null,
   "metadata": {},
   "outputs": [],
   "source": [
    "passengers_df = pd.read_csv('data/den_passengers.csv')\n",
    "passengers_df.head()"
   ]
  },
  {
   "cell_type": "markdown",
   "metadata": {},
   "source": [
    "### Check the packaging\n",
    "**Check the packaging** → Make sure there are the right number of rows & columns, formats, etc.\n",
    "\n",
    "The data should start in February 1995 and go through July 2019."
   ]
  },
  {
   "cell_type": "code",
   "execution_count": null,
   "metadata": {},
   "outputs": [],
   "source": [
    "passengers_df['Month'].min(), passengers_df['Month'].max()"
   ]
  },
  {
   "cell_type": "markdown",
   "metadata": {},
   "source": [
    "#### Data munging\n",
    "\n",
    "Use [`pd.to_datetime`](https://pandas.pydata.org/pandas-docs/stable/reference/api/pandas.to_datetime.html) to convert the \"Month\" column into valid datetime objects. (Alternatively, use one of the function calls in `read_csv` to do this)."
   ]
  },
  {
   "cell_type": "code",
   "execution_count": null,
   "metadata": {},
   "outputs": [],
   "source": [
    "# Before: the data is an \"object\" type, which typically means text/string\n",
    "passengers_df['Month'].head()"
   ]
  },
  {
   "cell_type": "code",
   "execution_count": null,
   "metadata": {},
   "outputs": [],
   "source": [
    "# After: the data is a datetime type, which lets us do some exciting things later on\n",
    "passengers_df['Month'] = pd.to_datetime(passengers_df['Month'])\n",
    "passengers_df['Month'].head()"
   ]
  },
  {
   "cell_type": "markdown",
   "metadata": {},
   "source": [
    "### Clean up the data\n",
    "\n",
    "Make the \"Month\" column the index using the [`.set_index`](https://pandas.pydata.org/pandas-docs/stable/reference/api/pandas.DataFrame.set_index.html) method. \n",
    "\n",
    "**Why indexing**: Looking up rows by index is much faster than looking up rows by column value.\n",
    "* You can now lookup using .loc and .iloc instead of by column name.\n",
    "\n",
    "Here is how you could look up any row where the df['index'] column equals 999. Pandas has to loop through every value in the column to find the ones equal to 999.\n",
    "```\n",
    "df[df['index'] == 999]\n",
    "\n",
    "#           foo  index\n",
    "# 999  0.375489    999\n",
    "```\n",
    "\n",
    "Here is how you could lookup any row where the index equals 999. With an index, Pandas uses the hash value to find the rows:\n",
    "```\n",
    "df_with_index.loc[999]\n",
    "# foo        0.375489\n",
    "# index    999.000000\n",
    "# Name: 999, dtype: float64\n",
    "```\n",
    "\n",
    "Looking up rows by index is much faster than looking up rows by column value:\n",
    "```\n",
    "%timeit df[df['index'] == 999]\n",
    "1000 loops, best of 3: 368 µs per loop\n",
    "```\n",
    "\n",
    "```\n",
    "%timeit df_with_index.loc[999]\n",
    "10000 loops, best of 3: 57.7 µs per loop\n",
    "```\n",
    "\n",
    "\n",
    "\n",
    "**pandas also make multi-indexing possible.** \n",
    "See some examples here: https://www.geeksforgeeks.org/python-pandas-dataframe-set_index/\n"
   ]
  },
  {
   "cell_type": "code",
   "execution_count": null,
   "metadata": {},
   "outputs": [],
   "source": [
    "# The \"Month\" column is now an index\n",
    "passengers_df.set_index('Month',inplace=True)\n",
    "passengers_df.head()"
   ]
  },
  {
   "cell_type": "code",
   "execution_count": null,
   "metadata": {},
   "outputs": [],
   "source": [
    "# You can now access the data by row using methods like .loc\n",
    "passengers_df.loc['2006-06-01']"
   ]
  },
  {
   "cell_type": "markdown",
   "metadata": {},
   "source": [
    "### Make a plot\n",
    "Visualize the monthly passenger data for each of the airlines. What are some general trends?"
   ]
  },
  {
   "cell_type": "markdown",
   "metadata": {},
   "source": [
    "**First, let's try the not-so-right solution**\n",
    "\n",
    "<span class=\"mark\">Question:</span> What's not right about this plot? What needs to be changed?"
   ]
  },
  {
   "cell_type": "code",
   "execution_count": null,
   "metadata": {},
   "outputs": [],
   "source": [
    "passengers_df.plot()"
   ]
  },
  {
   "cell_type": "markdown",
   "metadata": {},
   "source": [
    "We don't really need to plot the \"Total\", \"Grand Total\", and \"Cargo\" since we want to visualize the monthly passenger data of each airline."
   ]
  },
  {
   "cell_type": "code",
   "execution_count": null,
   "metadata": {},
   "outputs": [],
   "source": [
    "passengers_df.drop(columns=['Total','Cargo','Grand Total'],inplace=True)\n",
    "passengers_df.head()"
   ]
  },
  {
   "cell_type": "code",
   "execution_count": null,
   "metadata": {},
   "outputs": [],
   "source": [
    "passengers_df.plot()"
   ]
  },
  {
   "cell_type": "markdown",
   "metadata": {},
   "source": [
    "<span class=\"mark\">**TODO for later**</span>\n",
    "\n",
    "Experiment with improving the aesthetics of the default plot by using strategies like changing the [figure size](https://stackoverflow.com/a/51174822/1574687), using [subplots](https://pandas.pydata.org/pandas-docs/stable/user_guide/visualization.html#subplots), and other [formatting strategies](https://pandas.pydata.org/pandas-docs/stable/user_guide/visualization.html#plot-formatting). See this [blog post by Nayomi Chibana](https://visme.co/blog/data-storytelling-tips/) for tips on improving data visualizations."
   ]
  },
  {
   "cell_type": "code",
   "execution_count": null,
   "metadata": {},
   "outputs": [],
   "source": [
    "# Your code below\n",
    "\n"
   ]
  },
  {
   "cell_type": "markdown",
   "metadata": {},
   "source": [
    "Making subplots is another possibility"
   ]
  },
  {
   "cell_type": "code",
   "execution_count": null,
   "metadata": {},
   "outputs": [],
   "source": [
    "# Make the lines thicker (lw), make the figure larger (figsize), use a different colormap (cmap), and make subplots\n",
    "axs = passengers_df.plot(lw=3,figsize=(12,12),cmap='tab10',subplots=True)\n",
    "\n",
    "# Loop through each of the sub-axes\n",
    "for ax in axs:\n",
    "    # Add a vertical red dashed line for September 2001 and annotate\n",
    "    ax.axvline('2001-09-01',c='r',ls='--',lw=1)\n",
    "    \n",
    "    # Put the legends on the outside\n",
    "    ax.legend(loc='center left',bbox_to_anchor=(1,.5))\n",
    "    \n",
    "    # Make pretty ytick labels\n",
    "    ax.yaxis.set_major_formatter(ticker.StrMethodFormatter(\"{x:,.0f}\"))"
   ]
  },
  {
   "cell_type": "markdown",
   "metadata": {},
   "source": [
    "### Melt the data\n",
    "\n",
    "(Hint: pandas's `melt` and `stack` functions both turn columns into rows)\n",
    "\n",
    "Let's use pandas's [`melt`](https://pandas.pydata.org/pandas-docs/stable/reference/api/pandas.melt.html) function on your cleaned `passengers_df` to make it tidier. Note that you'll likely need to use `.reset_index()` on `passengers_df` to turn the \"Month\" index back into a column. Rename the columns so they're more interpretable too. \n",
    "\n",
    "Your melted data should look something like this:\n",
    "\n",
    "| Month  | Airline | Count |\n",
    "| --- | --- | --- |\n",
    "| 1995-02-01 | American | 5833 |\n",
    "| 1995-03-01 | American | 228196 |\n",
    "| 1995-04-01 | American | 184229 |\n",
    "| 1995-05-01 | American | 187990 |\n",
    "| 1995-06-01 | American | 229348 |\n",
    "\n",
    "\n",
    "**You need to make sure each variable has its own columns**\n",
    "\n",
    "**STEPS**\n",
    "* Use `.reset_index()` to turn indexes back to columns.\n",
    "* Mutate column names with wither [`rename`](https://pandas.pydata.org/pandas-docs/stable/reference/api/pandas.DataFrame.rename.html?highlight=rename#pandas.DataFrame.rename) function or [`columns`](https://pandas.pydata.org/pandas-docs/stable/reference/api/pandas.DataFrame.columns.html?highlight=columns#pandas.DataFrame.columns) attribute.)"
   ]
  },
  {
   "cell_type": "code",
   "execution_count": null,
   "metadata": {},
   "outputs": [],
   "source": [
    "passengers_melt_df = pd.melt(passengers_df.reset_index(),id_vars=['Month'])\n",
    "passengers_melt_df.columns = ['Month','Airline','Count']\n",
    "passengers_melt_df.head()"
   ]
  },
  {
   "cell_type": "markdown",
   "metadata": {},
   "source": [
    "### Visualize the melted data\n",
    "Use seaborn's [`lineplot`](https://seaborn.pydata.org/generated/seaborn.lineplot.html) to make a time series plot on the melted data."
   ]
  },
  {
   "cell_type": "code",
   "execution_count": null,
   "metadata": {},
   "outputs": [],
   "source": [
    "sb.lineplot(x='Month',y='Count',data=passengers_melt_df)"
   ]
  },
  {
   "cell_type": "markdown",
   "metadata": {},
   "source": [
    "**<span class=\"mark\">TODO</span>**\n",
    "In the above plot also show the trend lines for different airlines.\n",
    "\n",
    "*Hint: you can use the `hue` parameter*"
   ]
  },
  {
   "cell_type": "code",
   "execution_count": null,
   "metadata": {},
   "outputs": [],
   "source": [
    "# Your code below\n",
    "\n"
   ]
  },
  {
   "cell_type": "markdown",
   "metadata": {},
   "source": [
    "#### Adding a new column month\n",
    "\n",
    "Create a new column \"Month_num\" in your melted data: January is 1, February is 2, *etc*. If you use StackOverflow to [find a solution](https://stackoverflow.com/a/25149272/1574687), make sure to reference it."
   ]
  },
  {
   "cell_type": "code",
   "execution_count": null,
   "metadata": {},
   "outputs": [],
   "source": [
    "passengers_melt_df['Month_num'] = pd.DatetimeIndex(passengers_melt_df['Month']).month\n",
    "passengers_melt_df.head()"
   ]
  },
  {
   "cell_type": "code",
   "execution_count": null,
   "metadata": {},
   "outputs": [],
   "source": [
    "# Another alternative\n",
    "passengers_melt_df['Month_num'] = passengers_melt_df['Month'].apply(lambda x:x.month)\n",
    "passengers_melt_df.head()"
   ]
  },
  {
   "cell_type": "markdown",
   "metadata": {},
   "source": [
    "**<span class=\"mark\">TODO</span> for later**:\n",
    "\n",
    "#### Separate the `date` column into year and months\n",
    "(**Normie hint**: Access the month and year as attributes of a datetime/timestamp)  \n",
    "(**Elite hint**: Use `.str.extract` and pass a regular expression that matches a 4 digit number for year and 2 digit number of month)"
   ]
  },
  {
   "cell_type": "markdown",
   "metadata": {},
   "source": [
    "### Visualize\n",
    "\n",
    "Use seaborn's [catplot](https://seaborn.pydata.org/generated/seaborn.catplot.html) to make a plot with \"Month\" on the x-axis and \"Count\" on the y-axis. What are some interesting patterns? What could be driving it?\n",
    "\n",
    "<span class=\"mark\">Also checkout the docs in catplot to see other option</span>, like `violinplot`"
   ]
  },
  {
   "cell_type": "code",
   "execution_count": null,
   "metadata": {},
   "outputs": [],
   "source": [
    "sb.catplot(x='Month_num',y='Count',data=passengers_melt_df,kind='point')\n",
    "# Passengers are substantially higher in March than neighboring months: spring breakers?\n",
    "# Passengers are substantiall lower in September than August: back to school"
   ]
  },
  {
   "cell_type": "markdown",
   "metadata": {},
   "source": [
    "**To Think & Infer**: What are some interesting patterns? What could be driving it?"
   ]
  },
  {
   "cell_type": "code",
   "execution_count": null,
   "metadata": {},
   "outputs": [],
   "source": [
    "# Subplot by airline, make the points overlap less (dodge), and make wider (aspect)\n",
    "sb.catplot(x='Month_num',y='Count',hue='Airline',data=passengers_melt_df,kind='point',dodge=.5,aspect=2)"
   ]
  },
  {
   "cell_type": "markdown",
   "metadata": {},
   "source": [
    "### Pivot the data\n",
    "Create a new column \"Year\" in your melted data."
   ]
  },
  {
   "cell_type": "code",
   "execution_count": null,
   "metadata": {},
   "outputs": [],
   "source": [
    "passengers_melt_df['Year'] = pd.DatetimeIndex(passengers_melt_df['Month']).year\n",
    "# passengers_melt_df['Year'] = passengers_melt_df['Month'].apply(lambda x:x.year) # Alternative\n",
    "\n",
    "passengers_melt_df.head()"
   ]
  },
  {
   "cell_type": "markdown",
   "metadata": {},
   "source": [
    "Use [`pivot_table`](https://pandas.pydata.org/pandas-docs/stable/reference/api/pandas.pivot_table.html) to convert the melted data with the year column into a \"wide\" format with \"Year\" as an index, \"Airline\" as columns, and \"Count\" as values. What are the values in the resulting DataFrame?"
   ]
  },
  {
   "cell_type": "code",
   "execution_count": null,
   "metadata": {},
   "outputs": [],
   "source": [
    "passengers_pivot = passengers_melt_df.pivot_table(values='Count',index='Year',columns='Airline')\n",
    "passengers_pivot"
   ]
  },
  {
   "cell_type": "markdown",
   "metadata": {},
   "source": [
    "### Aggregate\n",
    "Use an aggregate function in `pivot_table` to get the total number of passengers on that airline in that year."
   ]
  },
  {
   "cell_type": "code",
   "execution_count": null,
   "metadata": {},
   "outputs": [],
   "source": [
    "passengers_pivot_sum = passengers_melt_df.pivot_table(values='Count',index='Year',columns='Airline',aggfunc='sum')\n",
    "passengers_pivot_sum"
   ]
  },
  {
   "cell_type": "markdown",
   "metadata": {},
   "source": [
    "### Visualize\n",
    "\n",
    "Visualize the pivot table with total annual passenger traffic by airline."
   ]
  },
  {
   "cell_type": "code",
   "execution_count": null,
   "metadata": {},
   "outputs": [],
   "source": [
    "ax = passengers_pivot_sum.plot(lw=3,figsize=(8,4))\n",
    "\n",
    "# https://stackoverflow.com/a/43439132/1574687\n",
    "ax.legend(loc='center left',bbox_to_anchor=(1,.5))\n",
    "\n",
    "# The drop-off in 2019 is probably an artifact of only having data for a few months in the year"
   ]
  },
  {
   "cell_type": "markdown",
   "metadata": {},
   "source": [
    "**TODOs to try later**\n",
    "\n",
    "1. Compute average monthly passengers per flight\n",
    "2. Plot average monthly passengers per flight. You can make a seaborn `catplot` with \"month\" on the x-axis, \"passengers\" on the y-axis, and hues for the different carriers. Is the top month still the same?"
   ]
  },
  {
   "cell_type": "code",
   "execution_count": null,
   "metadata": {},
   "outputs": [],
   "source": []
  }
 ],
 "metadata": {
  "kernelspec": {
   "display_name": "Python 3",
   "language": "python",
   "name": "python3"
  },
  "language_info": {
   "codemirror_mode": {
    "name": "ipython",
    "version": 3
   },
   "file_extension": ".py",
   "mimetype": "text/x-python",
   "name": "python",
   "nbconvert_exporter": "python",
   "pygments_lexer": "ipython3",
   "version": "3.8.3"
  }
 },
 "nbformat": 4,
 "nbformat_minor": 4
}
