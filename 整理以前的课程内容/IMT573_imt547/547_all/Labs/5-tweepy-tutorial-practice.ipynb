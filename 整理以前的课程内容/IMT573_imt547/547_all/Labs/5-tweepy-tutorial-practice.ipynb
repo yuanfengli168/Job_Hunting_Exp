{
 "cells": [
  {
   "cell_type": "markdown",
   "metadata": {},
   "source": [
    "# Collecting Twitter Data using Twitter API"
   ]
  },
  {
   "cell_type": "markdown",
   "metadata": {},
   "source": [
    "- We will use the `tweepy` python wrapper for accessing twitter data.\n",
    "- We will also see a new python data structure: `json`. \n",
    "\n",
    "`tweepy`: https://www.tweepy.org/ python library for accessing the Twitter API. [Read the Docs](https://docs.tweepy.org/en/latest/).\n",
    "To start using tweepy, you first need to install: https://docs.tweepy.org/en/latest/install.html\n",
    "\n",
    "\n",
    "`json`: \n",
    "JSON is a text-based data exchange format derived from JavaScript that is used in web services and other connected applications. \n",
    "JSON supports primitive types, like strings and numbers, as well as nested lists and objects. \n",
    "[Read the Docs](https://realpython.com/python-json/)"
   ]
  },
  {
   "cell_type": "code",
   "execution_count": 3,
   "metadata": {},
   "outputs": [],
   "source": [
    "# let's start by importing both\n",
    "import tweepy #https://docs.tweepy.org/en/latest/install.html pip install tweepy or easy_install tweepy\n",
    "import json"
   ]
  },
  {
   "cell_type": "markdown",
   "metadata": {},
   "source": [
    "To conduct data collection via Twitter API, you need to get Twitter developer access.\n",
    "Check the \"Apply for Twitter Developer Account\" document that was shared via Announcements."
   ]
  },
  {
   "cell_type": "raw",
   "metadata": {},
   "source": [
    "First save your API and secret keys credentials in a file: keys.json\n",
    "The file needs to be in correct json format given below. Validate your file format using a JSONformatter (https://jsonformatter.curiousconcept.com/). The format should be:\n",
    " \n",
    "{\n",
    "    \"api_key\":\"your api key here\" ,\n",
    "    \"api_secret\": \"your api secret here\"  ,\n",
    "    \"token\": \"your access token here\"  , \n",
    "    \"token_secret\": \"your access token secret here\" \n",
    "}"
   ]
  },
  {
   "cell_type": "markdown",
   "metadata": {},
   "source": [
    "### Write a function that loads the keys from your keys.json file"
   ]
  },
  {
   "cell_type": "code",
   "execution_count": 4,
   "metadata": {},
   "outputs": [],
   "source": [
    "# Function to read the key file and load keys in a dictionary\n",
    "def loadKeys(key_file):\n",
    "    with open(key_file) as f:\n",
    "        key_dict = json.load(f)\n",
    "    return key_dict['api_key'], key_dict['api_secret'], key_dict['token'], key_dict['token_secret']"
   ]
  },
  {
   "cell_type": "markdown",
   "metadata": {},
   "source": [
    "### Authorizing an application to access Twitter account data\n",
    "At this stage, we will be using Twitter API v1.1. Twitter very recently rolled out API v2 (Jan 2021). \n",
    "As of now tweepy is not compatible with API v2. But later we will use other means of using the new endpoints provided by API v2.\n",
    "\n",
    "For now, let's just focus on tweepy and how it allows you to easy access to API v1.1 of twitter."
   ]
  },
  {
   "cell_type": "markdown",
   "metadata": {},
   "source": [
    "Twitter requires all requests to use OAuth for authentication.\n",
    "For more details, see here:  https://docs.tweepy.org/en/latest/getting_started.html"
   ]
  },
  {
   "cell_type": "code",
   "execution_count": 5,
   "metadata": {},
   "outputs": [],
   "source": [
    "KEY_FILE = 'twitterkeys.json'\n",
    "api_key, api_secret, token, token_secret = loadKeys(KEY_FILE)\n",
    "auth = tweepy.OAuthHandler(api_key, api_secret)\n",
    "auth.set_access_token(token, token_secret)\n",
    "api = tweepy.API(auth)"
   ]
  },
  {
   "cell_type": "markdown",
   "metadata": {},
   "source": [
    "At this stage, you are ready to use fetch data.\n",
    "The API class provides access to the entire twitter RESTful API methods. \n",
    "\n",
    "Let's try a few API methods."
   ]
  },
  {
   "cell_type": "markdown",
   "metadata": {},
   "source": [
    "### Your home timeline tweets\n",
    "\n",
    "`API.home_timeline`: https://docs.tweepy.org/en/latest/api.html?highlight=home#API.home_timeline\n",
    "\n",
    "returns the 20 most recent statuses"
   ]
  },
  {
   "cell_type": "code",
   "execution_count": null,
   "metadata": {},
   "outputs": [],
   "source": [
    "my_tweets = api.home_timeline()"
   ]
  },
  {
   "cell_type": "code",
   "execution_count": null,
   "metadata": {},
   "outputs": [],
   "source": [
    "for tweet in my_tweets:\n",
    "    print(tweet.text)"
   ]
  },
  {
   "cell_type": "code",
   "execution_count": null,
   "metadata": {},
   "outputs": [],
   "source": [
    "len(my_tweets)"
   ]
  },
  {
   "cell_type": "code",
   "execution_count": null,
   "metadata": {},
   "outputs": [],
   "source": [
    "type(tweet)"
   ]
  },
  {
   "cell_type": "code",
   "execution_count": null,
   "metadata": {},
   "outputs": [],
   "source": [
    "# The Status object is really hard to read. But we do see that is has a _json property. Let's try printing that.\n",
    "tweet"
   ]
  },
  {
   "cell_type": "code",
   "execution_count": null,
   "metadata": {},
   "outputs": [],
   "source": [
    "# much better to read\n",
    "tweet._json # Also check: type(tweet._json) "
   ]
  },
  {
   "cell_type": "markdown",
   "metadata": {},
   "source": [
    "## Extract user timelines\n",
    "[API.user_timeline](https://docs.tweepy.org/en/latest/api.html?highlight=pi.user_timeline#API.user_timeline): Returns the 20 most recent statuses posted from the authenticating user or the user specified"
   ]
  },
  {
   "cell_type": "code",
   "execution_count": 6,
   "metadata": {},
   "outputs": [],
   "source": [
    "user_tweets = api.user_timeline(id = \"WHO\")"
   ]
  },
  {
   "cell_type": "code",
   "execution_count": 7,
   "metadata": {
    "collapsed": true
   },
   "outputs": [
    {
     "name": "stdout",
     "output_type": "stream",
     "text": [
      "RT @WHO: LIVE: @DrTedros' opening remarks at the #EB148. https://t.co/9HyDVXgyUT\n",
      "RT @DrTedros: There will be enough #COVID19 vaccine for everyone. But right now, we must work together as one global family to prioritize t…\n",
      "RT @DrTedros: Today, I called on:\n",
      "-countries with bilateral #COVID19 vaccine contracts to be transparent on these contracts with COVAX\n",
      "-pro…\n",
      "RT @DrTedros: #COVID19 vaccines are the shot in the arm we all need literally &amp; figuratively. But the promise of equitable access is at ser…\n",
      "RT @DrTedros: A year ago, #COVID19 emerged &amp; sparked a pandemic. Life-saving vaccines have been developed. What happens next is up to us. I…\n",
      "It’s #CervicalCancer Awareness Month!\n",
      "\n",
      "All adult women 👩👩🏾‍🦱 🧕👩🏻 should undergo periodic screening to detect pre-ca… https://t.co/KTMVb1aX0k\n",
      "January is Cervical Cancer Awareness Month!\n",
      " \n",
      "Get your #CervicalCancer questions answered by following… https://t.co/0VBIZvVMh8\n",
      "#EB148 - Agenda item 14: #COVID19 response https://t.co/x7HgeopOxi\n",
      "RT @DrTedros: On #MLKDay, we must act on Dr King's words: 'Of all the forms of inequality, injustice in health is the most shocking &amp; the m…\n",
      "The full opening remarks by @DrTedros at the #EB148 👇 https://t.co/oG7Bizc9QF\n",
      "\"We are committed to accountability, and to giving you value for money. But we ask Member States to ensure the Secr… https://t.co/UWs0BmE6Yh\n",
      "\"We owe it to all of them to ensure that whatever challenges we face, we overcome them; whatever lessons the… https://t.co/CySBMfaWcW\n",
      "\"And next week marks one year since the passing of our dear friend and colleague Pete Salama. Gone but never forgot… https://t.co/NNTQF9pd6D\n",
      "\"We've lost colleagues incl. Belinda Kasongo, murdered in 🇨🇩 as she worked to protect others from #Ebola. Her sacri… https://t.co/IqHYBb8L8z\n",
      "\"In the past year we have lost more than 2 million of our sisters and brothers to this pandemic, including many hea… https://t.co/xBbJYAdc0j\n",
      "\"One year into the greatest crisis of our time, there is no question that we still face unprecedented danger.\n",
      "But w… https://t.co/0W6S9FRLgo\n",
      "\"It also proposes extending the deadline for the “triple billion” targets by two years, to 2025. \n",
      "\n",
      "Extending the de… https://t.co/sczoGFUUvx\n",
      "\"2⃣the need to strengthen health emergency preparedness &amp; response at all levels\n",
      "3⃣the need to build resilience thr… https://t.co/BCXzyPvbXk\n",
      "\"We have therefore developed a flexible programme budget, built around 4⃣ key strategic themes:\n",
      "\n",
      "1⃣the urgent need… https://t.co/0TpMeyJCuW\n",
      "\"The draft budget reflects the need to forge ahead with the work we have to do, implementing the lessons we have al… https://t.co/a7XOFI77JR\n"
     ]
    }
   ],
   "source": [
    "# let's look at the returned tweets\n",
    "for tweet in user_tweets:\n",
    "    print(tweet.text)"
   ]
  },
  {
   "cell_type": "code",
   "execution_count": 8,
   "metadata": {},
   "outputs": [
    {
     "data": {
      "text/plain": [
       "{'created_at': 'Mon Jan 18 11:43:12 +0000 2021',\n",
       " 'id': 1351133032388943879,\n",
       " 'id_str': '1351133032388943879',\n",
       " 'text': '\"The draft budget reflects the need to forge ahead with the work we have to do, implementing the lessons we have al… https://t.co/a7XOFI77JR',\n",
       " 'truncated': True,\n",
       " 'entities': {'hashtags': [],\n",
       "  'symbols': [],\n",
       "  'user_mentions': [],\n",
       "  'urls': [{'url': 'https://t.co/a7XOFI77JR',\n",
       "    'expanded_url': 'https://twitter.com/i/web/status/1351133032388943879',\n",
       "    'display_url': 'twitter.com/i/web/status/1…',\n",
       "    'indices': [117, 140]}]},\n",
       " 'source': '<a href=\"https://mobile.twitter.com\" rel=\"nofollow\">Twitter Web App</a>',\n",
       " 'in_reply_to_status_id': 1351132211995684867,\n",
       " 'in_reply_to_status_id_str': '1351132211995684867',\n",
       " 'in_reply_to_user_id': 14499829,\n",
       " 'in_reply_to_user_id_str': '14499829',\n",
       " 'in_reply_to_screen_name': 'WHO',\n",
       " 'user': {'id': 14499829,\n",
       "  'id_str': '14499829',\n",
       "  'name': 'World Health Organization (WHO)',\n",
       "  'screen_name': 'WHO',\n",
       "  'location': 'Geneva, Switzerland',\n",
       "  'description': 'We are the #UnitedNations’ health agency - #HealthForAll.\\n▶️ Always check our latest tweets on #COVID19 for updated advice/information.',\n",
       "  'url': 'https://t.co/wVulKuROWG',\n",
       "  'entities': {'url': {'urls': [{'url': 'https://t.co/wVulKuROWG',\n",
       "      'expanded_url': 'http://www.who.int',\n",
       "      'display_url': 'who.int',\n",
       "      'indices': [0, 23]}]},\n",
       "   'description': {'urls': []}},\n",
       "  'protected': False,\n",
       "  'followers_count': 8870613,\n",
       "  'friends_count': 1727,\n",
       "  'listed_count': 32835,\n",
       "  'created_at': 'Wed Apr 23 19:56:27 +0000 2008',\n",
       "  'favourites_count': 11680,\n",
       "  'utc_offset': None,\n",
       "  'time_zone': None,\n",
       "  'geo_enabled': True,\n",
       "  'verified': True,\n",
       "  'statuses_count': 58348,\n",
       "  'lang': None,\n",
       "  'contributors_enabled': False,\n",
       "  'is_translator': False,\n",
       "  'is_translation_enabled': False,\n",
       "  'profile_background_color': 'D0ECF8',\n",
       "  'profile_background_image_url': 'http://abs.twimg.com/images/themes/theme1/bg.png',\n",
       "  'profile_background_image_url_https': 'https://abs.twimg.com/images/themes/theme1/bg.png',\n",
       "  'profile_background_tile': True,\n",
       "  'profile_image_url': 'http://pbs.twimg.com/profile_images/875476478988886016/_l61qZdR_normal.jpg',\n",
       "  'profile_image_url_https': 'https://pbs.twimg.com/profile_images/875476478988886016/_l61qZdR_normal.jpg',\n",
       "  'profile_banner_url': 'https://pbs.twimg.com/profile_banners/14499829/1610970935',\n",
       "  'profile_link_color': '0396DB',\n",
       "  'profile_sidebar_border_color': '8C8C8C',\n",
       "  'profile_sidebar_fill_color': 'D9D9D9',\n",
       "  'profile_text_color': '000000',\n",
       "  'profile_use_background_image': True,\n",
       "  'has_extended_profile': True,\n",
       "  'default_profile': False,\n",
       "  'default_profile_image': False,\n",
       "  'following': False,\n",
       "  'follow_request_sent': False,\n",
       "  'notifications': False,\n",
       "  'translator_type': 'regular'},\n",
       " 'geo': None,\n",
       " 'coordinates': None,\n",
       " 'place': None,\n",
       " 'contributors': None,\n",
       " 'is_quote_status': True,\n",
       " 'quoted_status_id': 1351132211995684867,\n",
       " 'quoted_status_id_str': '1351132211995684867',\n",
       " 'quoted_status': {'created_at': 'Mon Jan 18 11:39:56 +0000 2021',\n",
       "  'id': 1351132211995684867,\n",
       "  'id_str': '1351132211995684867',\n",
       "  'text': '\"At the same time, we are also looking ahead to the next biennium, which is supported by the draft programme budget… https://t.co/UNLuIzzJoW',\n",
       "  'truncated': True,\n",
       "  'entities': {'hashtags': [],\n",
       "   'symbols': [],\n",
       "   'user_mentions': [],\n",
       "   'urls': [{'url': 'https://t.co/UNLuIzzJoW',\n",
       "     'expanded_url': 'https://twitter.com/i/web/status/1351132211995684867',\n",
       "     'display_url': 'twitter.com/i/web/status/1…',\n",
       "     'indices': [117, 140]}]},\n",
       "  'source': '<a href=\"https://mobile.twitter.com\" rel=\"nofollow\">Twitter Web App</a>',\n",
       "  'in_reply_to_status_id': 1351127586596925442,\n",
       "  'in_reply_to_status_id_str': '1351127586596925442',\n",
       "  'in_reply_to_user_id': 14499829,\n",
       "  'in_reply_to_user_id_str': '14499829',\n",
       "  'in_reply_to_screen_name': 'WHO',\n",
       "  'user': {'id': 14499829,\n",
       "   'id_str': '14499829',\n",
       "   'name': 'World Health Organization (WHO)',\n",
       "   'screen_name': 'WHO',\n",
       "   'location': 'Geneva, Switzerland',\n",
       "   'description': 'We are the #UnitedNations’ health agency - #HealthForAll.\\n▶️ Always check our latest tweets on #COVID19 for updated advice/information.',\n",
       "   'url': 'https://t.co/wVulKuROWG',\n",
       "   'entities': {'url': {'urls': [{'url': 'https://t.co/wVulKuROWG',\n",
       "       'expanded_url': 'http://www.who.int',\n",
       "       'display_url': 'who.int',\n",
       "       'indices': [0, 23]}]},\n",
       "    'description': {'urls': []}},\n",
       "   'protected': False,\n",
       "   'followers_count': 8870613,\n",
       "   'friends_count': 1727,\n",
       "   'listed_count': 32835,\n",
       "   'created_at': 'Wed Apr 23 19:56:27 +0000 2008',\n",
       "   'favourites_count': 11680,\n",
       "   'utc_offset': None,\n",
       "   'time_zone': None,\n",
       "   'geo_enabled': True,\n",
       "   'verified': True,\n",
       "   'statuses_count': 58348,\n",
       "   'lang': None,\n",
       "   'contributors_enabled': False,\n",
       "   'is_translator': False,\n",
       "   'is_translation_enabled': False,\n",
       "   'profile_background_color': 'D0ECF8',\n",
       "   'profile_background_image_url': 'http://abs.twimg.com/images/themes/theme1/bg.png',\n",
       "   'profile_background_image_url_https': 'https://abs.twimg.com/images/themes/theme1/bg.png',\n",
       "   'profile_background_tile': True,\n",
       "   'profile_image_url': 'http://pbs.twimg.com/profile_images/875476478988886016/_l61qZdR_normal.jpg',\n",
       "   'profile_image_url_https': 'https://pbs.twimg.com/profile_images/875476478988886016/_l61qZdR_normal.jpg',\n",
       "   'profile_banner_url': 'https://pbs.twimg.com/profile_banners/14499829/1610970935',\n",
       "   'profile_link_color': '0396DB',\n",
       "   'profile_sidebar_border_color': '8C8C8C',\n",
       "   'profile_sidebar_fill_color': 'D9D9D9',\n",
       "   'profile_text_color': '000000',\n",
       "   'profile_use_background_image': True,\n",
       "   'has_extended_profile': True,\n",
       "   'default_profile': False,\n",
       "   'default_profile_image': False,\n",
       "   'following': False,\n",
       "   'follow_request_sent': False,\n",
       "   'notifications': False,\n",
       "   'translator_type': 'regular'},\n",
       "  'geo': None,\n",
       "  'coordinates': None,\n",
       "  'place': None,\n",
       "  'contributors': None,\n",
       "  'is_quote_status': False,\n",
       "  'retweet_count': 4,\n",
       "  'favorite_count': 28,\n",
       "  'favorited': False,\n",
       "  'retweeted': False,\n",
       "  'lang': 'en'},\n",
       " 'retweet_count': 3,\n",
       " 'favorite_count': 13,\n",
       " 'favorited': False,\n",
       " 'retweeted': False,\n",
       " 'possibly_sensitive': False,\n",
       " 'lang': 'en'}"
      ]
     },
     "execution_count": 8,
     "metadata": {},
     "output_type": "execute_result"
    }
   ],
   "source": [
    "# much better to read\n",
    "tweet._json # Also check: type(tweet._json) "
   ]
  },
  {
   "cell_type": "markdown",
   "metadata": {},
   "source": [
    "<span class=\"mark\">**TODO**</span>\n",
    "For the tweets in your the user timeline, you already saw the tweet by printing `tweet.text`. \n",
    "Pick a few other properties and print those (pick at least two)."
   ]
  },
  {
   "cell_type": "code",
   "execution_count": null,
   "metadata": {},
   "outputs": [],
   "source": [
    "# Your code below\n",
    "\n"
   ]
  },
  {
   "cell_type": "markdown",
   "metadata": {},
   "source": [
    "## Followers and friends\n",
    "\n",
    "https://docs.tweepy.org/en/latest/api.html?highlight=followers#API.followers\n",
    "\n",
    "Searching for followers and friends of a specified user.\n",
    "\n",
    "[`API.get_user`](https://docs.tweepy.org/en/latest/api.html?highlight=get_user#API.get_user): Returns information about the specified user."
   ]
  },
  {
   "cell_type": "code",
   "execution_count": null,
   "metadata": {},
   "outputs": [],
   "source": [
    "# Search for followers of your favorite celebrity.\n",
    "# Fetch first 10 followers and friends of your favorite celebrity. You need to get their Twitter handle first.\n",
    "    \n",
    "USER_HANDLE = 'DrMLKJrWisdom' #Dr. Martin Luther King: https://twitter.com/DrMLKJrWisdom"
   ]
  },
  {
   "cell_type": "code",
   "execution_count": null,
   "metadata": {},
   "outputs": [],
   "source": [
    "user = api.get_user(USER_HANDLE)\n",
    "print('# of followers = ', user.followers_count)\n",
    "print('# of friends = ', user.friends_count)"
   ]
  },
  {
   "cell_type": "code",
   "execution_count": null,
   "metadata": {},
   "outputs": [],
   "source": [
    "type(user)"
   ]
  },
  {
   "cell_type": "code",
   "execution_count": null,
   "metadata": {},
   "outputs": [],
   "source": [
    "# similar concept as before. The _json property will show what all attributes are available for any user object\n",
    "user._json"
   ]
  },
  {
   "cell_type": "markdown",
   "metadata": {},
   "source": [
    "<span class=\"mark\">**TODO**:</span>\n",
    "\n",
    "For your favorite celebrity, pick a few attributes, print and check those."
   ]
  },
  {
   "cell_type": "code",
   "execution_count": null,
   "metadata": {},
   "outputs": [],
   "source": [
    "# Your code below\n",
    "\n"
   ]
  },
  {
   "cell_type": "markdown",
   "metadata": {},
   "source": [
    "## Trends data\n",
    "\n",
    "https://docs.tweepy.org/en/latest/api.html?highlight=trends_place#API.trends_place\n",
    "\n",
    "`API.trends_place`: returns the top 50 trending topics for a specific WOEID (Where On Earth ID)"
   ]
  },
  {
   "cell_type": "code",
   "execution_count": null,
   "metadata": {},
   "outputs": [],
   "source": [
    "# Where On Earth ID (WOEID) is a legacy identifier created by Yahoo.\n",
    "# Twitter API v1.1 still uses the numeric value to identify town and country trend locations.\n",
    "# WOEID for the entire world is 1 and WOEID for USA is 23424977\n",
    "# See https://developer.twitter.com/en/docs/twitter-api/v1/trends/trends-for-location/api-reference/get-trends-place and\n",
    "# https://blog.twitter.com/engineering/en_us/a/2010/woeids-in-twitters-trends.html\n",
    "\n",
    "WORLD_WOE_ID = 1\n",
    "\n",
    "world_trends = api.trends_place(WORLD_WOE_ID)\n",
    "print(world_trends)"
   ]
  },
  {
   "cell_type": "code",
   "execution_count": null,
   "metadata": {},
   "outputs": [],
   "source": [
    "type(world_trends)"
   ]
  },
  {
   "cell_type": "code",
   "execution_count": null,
   "metadata": {},
   "outputs": [],
   "source": [
    "for trend in world_trends[0]['trends']:\n",
    "    print(trend)"
   ]
  },
  {
   "cell_type": "code",
   "execution_count": null,
   "metadata": {},
   "outputs": [],
   "source": [
    "WORLD_WOE_ID = 1\n",
    "\n",
    "world_trends = api.trends_place(WORLD_WOE_ID)\n",
    "print(world_trends)"
   ]
  },
  {
   "cell_type": "code",
   "execution_count": null,
   "metadata": {},
   "outputs": [],
   "source": [
    "for trend in world_trends[0]['trends']:\n",
    "    print(trend['name'])"
   ]
  },
  {
   "cell_type": "markdown",
   "metadata": {},
   "source": [
    "**TODO**\n",
    "Let's find trends from USA and then determine the common trends in the world and in USA.\n",
    "\n",
    "USA_WOE_ID = 23424977\n",
    "\n",
    "*Hint:* To find common trends, you can perform a set operation. "
   ]
  },
  {
   "cell_type": "code",
   "execution_count": null,
   "metadata": {},
   "outputs": [],
   "source": [
    "# Your code below\n",
    "\n",
    "USA_WOE_ID = 23424977\n"
   ]
  },
  {
   "cell_type": "markdown",
   "metadata": {},
   "source": [
    "## Pagination (Cursor way)\n",
    "\n",
    "Twitter API returns results in pages. \n",
    "\n",
    "`Cursor` handles all the pagination work for us behind the scenes, so our code can now focus entirely on processing the results. \n",
    "\n",
    "Check the link to see Old Way vs. Cursor Way https://docs.tweepy.org/en/latest/cursor_tutorial.html?highlight=Pagination"
   ]
  },
  {
   "cell_type": "code",
   "execution_count": null,
   "metadata": {},
   "outputs": [],
   "source": [
    "# Tweepy cursors take away part of the complexity of working with paginated results. \n",
    "# Cursors are implemented as a Tweepy class named Cursor. To use a cursor, you select the API method to use\n",
    "# to fetch items and specify the number of pages you want.\n",
    "\n",
    "no_of_pages = 2\n",
    "for page in tweepy.Cursor(api.user_timeline, id = \"DrMLKJrWisdom\").pages(no_of_pages):\n",
    "    for status in page:\n",
    "        print(\"\\033[1mtweet :\\033[0m: \" + status.text)"
   ]
  },
  {
   "cell_type": "markdown",
   "metadata": {},
   "source": [
    "### Twitter's rate limit restriction\n",
    "\n",
    "Twitter API has rate limit restrictions. But sometimes you might need lots of data that lets you cross the limit imposed by Twitter's rate limit. For example, say you want to retrive all followers of a celebrity. Or all tweets from the President How can you fetch all the friends and followers of a celebrity account?\n",
    "\n",
    "Read more here to find the [API v1.1 rate limits](https://developer.twitter.com/en/docs/twitter-api/v1/rate-limits#:~:text=The%20maximum%20number%20of%20requests,15%2Dminute%20interval%20is%20allowed.)\n",
    "\n"
   ]
  },
  {
   "cell_type": "markdown",
   "metadata": {},
   "source": [
    "## Pagination and rate limit\n",
    "\n",
    "https://docs.tweepy.org/en/latest/code_snippet.html?highlight=Pagination#handling-the-rate-limit-using-cursors\n"
   ]
  },
  {
   "cell_type": "markdown",
   "metadata": {},
   "source": [
    "Twitter API has rate limit restrictions. But sometimes you might need lots of data that makes you cross the limit imposed by Twitter's rate limit. How can you fetch all the friends and followers of a celebrity account?\n",
    "\n",
    "#### A celebrity will have lots of followers and friends.\n",
    "Every time you hit the rate limit, you need to wait (time.sleep) before issuing the next call"
   ]
  },
  {
   "cell_type": "code",
   "execution_count": null,
   "metadata": {},
   "outputs": [],
   "source": [
    "# helper function\n",
    "import time\n",
    "SLEEP_TIME = 60 * 15\n",
    "def getFollowers(api, root_user, no_of_followers):\n",
    "    primary_followers = []\n",
    "    try:\n",
    "        for user in tweepy.Cursor(api.followers, screen_name = root_user).items(no_of_followers):\n",
    "            primary_followers.append((user.screen_name,root_user))\n",
    "\n",
    "    except tweepy.RateLimitError:\n",
    "        print('rate limit hit. Will sleep for', SLEEP_TIME)\n",
    "        time.sleep(SLEEP_TIME) #sleep and make failed request again\n",
    "        getFollowers(api, root_user, no_of_followers)\n",
    "\n",
    "    return primary_followers"
   ]
  },
  {
   "cell_type": "code",
   "execution_count": null,
   "metadata": {},
   "outputs": [],
   "source": [
    "NO_OF_FOLLOWERS = 10"
   ]
  },
  {
   "cell_type": "code",
   "execution_count": null,
   "metadata": {},
   "outputs": [],
   "source": [
    "primary_followers = getFollowers(api, USER_HANDLE, NO_OF_FOLLOWERS)"
   ]
  },
  {
   "cell_type": "code",
   "execution_count": null,
   "metadata": {},
   "outputs": [],
   "source": [
    "primary_followers"
   ]
  },
  {
   "cell_type": "code",
   "execution_count": null,
   "metadata": {},
   "outputs": [],
   "source": [
    "NO_OF_FOLLOWERS = 1000"
   ]
  },
  {
   "cell_type": "code",
   "execution_count": null,
   "metadata": {
    "scrolled": true
   },
   "outputs": [],
   "source": [
    "primary_followers = getFollowers(api, USER_HANDLE, NO_OF_FOLLOWERS)"
   ]
  },
  {
   "cell_type": "code",
   "execution_count": null,
   "metadata": {},
   "outputs": [],
   "source": [
    "primary_followers"
   ]
  },
  {
   "cell_type": "markdown",
   "metadata": {},
   "source": [
    "## Twitter search APIs\n",
    "\n",
    "Allows you to search for tweets containing a particular keyword\n",
    "\n",
    "`API.search`: [Read the docs](https://docs.tweepy.org/en/latest/api.html?highlight=api.search#API.search)\n",
    "\n",
    "When preparing this notebook, the Trending topic on my twitter feed was #TrumpsNewArmy\n",
    "Let's fetch tweets with this keyword (in this case it is a hashtag)\n",
    "https://twitter.com/search?q=%23TrumpsNewArmy&src=trend_click&vertical=trends"
   ]
  },
  {
   "cell_type": "code",
   "execution_count": null,
   "metadata": {},
   "outputs": [],
   "source": [
    "# Now we will search for tweets containing a particular keyword\n",
    "\n",
    "search_term = \"#TrumpsNewArmy\"\n",
    "no_of_pages = 1 #let's just fetch 1 page of data\n",
    "\n",
    "for page in tweepy.Cursor(api.search, q = search_term, lang=\"en\",).pages(no_of_pages):\n",
    "    for status in page:\n",
    "        print(\"\\033[1mtweet :\\033[0m \" + status.text)"
   ]
  },
  {
   "cell_type": "markdown",
   "metadata": {},
   "source": [
    "### Remove retweets from the tweets returned"
   ]
  },
  {
   "cell_type": "code",
   "execution_count": null,
   "metadata": {},
   "outputs": [],
   "source": [
    "new_search = search_term + \" -filter:retweets\"\n",
    "no_of_pages = 1\n",
    "\n",
    "for page in tweepy.Cursor(api.search, q = new_search, lang=\"en\",).pages(no_of_pages):\n",
    "    for status in page:\n",
    "        print(\"\\033[1mtweet :\\033[0m \" + status.text)"
   ]
  },
  {
   "cell_type": "markdown",
   "metadata": {},
   "source": [
    "<span class=\"mark\">**TODO**</span>\n",
    "\n",
    "Search for tweets containing exact phrase \"COVID19\" or \"vaccine\" or both and do not include retweets\n",
    "\n",
    "For more details on how to form search query: https://developer.twitter.com/en/docs/twitter-api/v1/rules-and-filtering/search-operators"
   ]
  },
  {
   "cell_type": "code",
   "execution_count": null,
   "metadata": {},
   "outputs": [],
   "source": [
    "# Your code here\n"
   ]
  },
  {
   "cell_type": "markdown",
   "metadata": {},
   "source": [
    "#### Possible paths for later\n",
    "\n",
    "- You can fetch data and save in a .csv file. Or use json.dumps to dump it into a .json file for doing data analysis later\n",
    "- You can load the data in a pandas dataframe to perform all sorts of analysis\n",
    "-"
   ]
  },
  {
   "cell_type": "code",
   "execution_count": null,
   "metadata": {},
   "outputs": [],
   "source": []
  }
 ],
 "metadata": {
  "kernelspec": {
   "display_name": "Python 3",
   "language": "python",
   "name": "python3"
  },
  "language_info": {
   "codemirror_mode": {
    "name": "ipython",
    "version": 3
   },
   "file_extension": ".py",
   "mimetype": "text/x-python",
   "name": "python",
   "nbconvert_exporter": "python",
   "pygments_lexer": "ipython3",
   "version": "3.8.3"
  }
 },
 "nbformat": 4,
 "nbformat_minor": 4
}
